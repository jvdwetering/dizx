{
 "cells": [
  {
   "cell_type": "code",
   "execution_count": 1,
   "id": "c2f956a7",
   "metadata": {},
   "outputs": [],
   "source": [
    "%load_ext autoreload\n",
    "%autoreload 2\n",
    "import sys\n",
    "sys.path.append('..')"
   ]
  },
  {
   "cell_type": "code",
   "execution_count": 2,
   "id": "94bf354c",
   "metadata": {},
   "outputs": [],
   "source": [
    "import dizx\n",
    "from dizx import Edge\n",
    "from dizx import clifford_simplifier as simp\n",
    "Phase = dizx.CliffordPhase\n",
    "d = 3\n",
    "Z = dizx.VertexType.Z\n",
    "X = dizx.VertexType.X"
   ]
  },
  {
   "cell_type": "code",
   "execution_count": null,
   "id": "1de846c3",
   "metadata": {},
   "outputs": [],
   "source": [
    "from sympy import symbols\n",
    "a = symbols(\"a\")\n",
    "ainv = symbols(\"ainv\")\n",
    "b = symbols(\"b\")\n",
    "binv = symbols(\"binv\")\n",
    "Hadj = dizx.gates.HAD(0,adjoint=True)\n",
    "H = dizx.gates.HAD(0)\n",
    "S = dizx.gates.S(0)\n",
    "\n",
    "lhs = dizx.Circuit(qudit_amount=1, dim=3)\n",
    "lhs += H**-1 + S**-a + H**-1 + S**-ainv + H**-1 + S**(-a*(b+1)) + H\n"
   ]
  },
  {
   "cell_type": "code",
   "execution_count": 77,
   "id": "be44dede",
   "metadata": {},
   "outputs": [],
   "source": [
    "#R28 from supplement, but with each S replaced by S**2 to match our semantics. Also had to add another CZ at start to fix semantics.\n",
    "from dizx.circuit.gates import CZ, CX, HAD, S, Z, X\n",
    "\n",
    "lhs = dizx.Circuit(qudit_amount=2, dim=3)\n",
    "lhs += CZ(0,1)\n",
    "lhs += HAD(0)**2 + HAD(1)\n",
    "lhs += CZ(0,1)\n",
    "lhs += CX(1,0)\n",
    "rhs = dizx.Circuit(qudit_amount=2, dim=3)\n",
    "rhs += HAD(1)\n",
    "rhs += CZ(0,1) + CX(1,0)\n",
    "rhs += S(1)**2 + HAD(1)**2 + S(1)**2\n",
    "rhs += CX(0,1)**2\n",
    "rhs += S(1)**2 + Z(1)\n"
   ]
  },
  {
   "cell_type": "code",
   "execution_count": 135,
   "id": "96e975ca",
   "metadata": {},
   "outputs": [],
   "source": [
    "#R27 from supplement, but with each S replaced by S**2 to match our semantics.\n",
    "from dizx.circuit.gates import SWAP\n",
    "\n",
    "lhs = dizx.Circuit(qudit_amount=2, dim=3)\n",
    "lhs += CZ(0,1)\n",
    "lhs += HAD(0)\n",
    "lhs += SWAP(0,1)\n",
    "lhs += CZ(0,1)\n",
    "lhs += CX(1,0)\n",
    "rhs = dizx.Circuit(qudit_amount=2, dim=3)\n",
    "rhs += S(1)**2 + HAD(0)\n",
    "rhs += S(0) + HAD(1)\n",
    "rhs += CZ(0,1)**2\n",
    "rhs += HAD(1) + S(1)**2"
   ]
  },
  {
   "cell_type": "code",
   "execution_count": 136,
   "id": "02f812e5",
   "metadata": {},
   "outputs": [
    {
     "data": {
      "image/png": "[encoded data removed]",
      "text/plain": [
       "<Figure size 1207.02x200.667 with 1 Axes>"
      ]
     },
     "metadata": {},
     "output_type": "display_data"
    },
    {
     "data": {
      "text/latex": [
       "$\\displaystyle \\left[\\begin{matrix}0 & 0 & 2 & 1\\\\0 & 2 & 2 & 0\\\\0 & 1 & 0 & 0\\\\2 & 1 & 1 & 2\\end{matrix}\\right]$"
      ],
      "text/plain": [
       "Matrix([\n",
       "[0, 0, 2, 1],\n",
       "[0, 2, 2, 0],\n",
       "[0, 1, 0, 0],\n",
       "[2, 1, 1, 2]])"
      ]
     },
     "execution_count": 136,
     "metadata": {},
     "output_type": "execute_result"
    }
   ],
   "source": [
    "c = lhs + rhs.adjoint()\n",
    "display(c.draw())\n",
    "dizx.symplectic.modulo_matrix(c.to_symplectic_matrix(),3)"
   ]
  },
  {
   "cell_type": "code",
   "execution_count": 109,
   "id": "2b29c601",
   "metadata": {},
   "outputs": [
    {
     "data": {
      "text/latex": [
       "$\\displaystyle \\left[\\begin{matrix}0 & -1 & 2 & 0\\\\-1 & -1 & 1 & 1\\\\0 & 1 & -1 & 0\\\\-2 & -1 & 0 & 1\\end{matrix}\\right]$"
      ],
      "text/plain": [
       "Matrix([\n",
       "[ 0, -1,  2, 0],\n",
       "[-1, -1,  1, 1],\n",
       "[ 0,  1, -1, 0],\n",
       "[-2, -1,  0, 1]])"
      ]
     },
     "execution_count": 109,
     "metadata": {},
     "output_type": "execute_result"
    }
   ],
   "source": [
    "lhs.to_symplectic_matrix()"
   ]
  },
  {
   "cell_type": "code",
   "execution_count": 110,
   "id": "93ae3c87",
   "metadata": {},
   "outputs": [
    {
     "data": {
      "text/latex": [
       "$\\displaystyle \\left[\\begin{matrix}0 & 1 & 0 & 0\\\\-1 & 1 & -4 & -2\\\\0 & -2 & -1 & 0\\\\0 & -4 & -4 & -1\\end{matrix}\\right]$"
      ],
      "text/plain": [
       "Matrix([\n",
       "[ 0,  1,  0,  0],\n",
       "[-1,  1, -4, -2],\n",
       "[ 0, -2, -1,  0],\n",
       "[ 0, -4, -4, -1]])"
      ]
     },
     "execution_count": 110,
     "metadata": {},
     "output_type": "execute_result"
    }
   ],
   "source": [
    "rhs.to_symplectic_matrix()"
   ]
  },
  {
   "cell_type": "code",
   "execution_count": 92,
   "id": "28aa7fe6",
   "metadata": {},
   "outputs": [
    {
     "name": "stdout",
     "output_type": "stream",
     "text": [
      "OPENQASM 2.0;\n",
      "include \"qelib1.inc\";\n",
      "quditdim 3\n",
      "qreg q[2];\n",
      "cz^2 q[0], q[1];\n",
      "h^2 q[0];\n",
      "h q[1];\n",
      "cz q[0], q[1];\n",
      "cx q[1], q[0];\n",
      "z^-1 q[1];\n",
      "s^-2 q[1];\n",
      "cx^-2 q[0], q[1];\n",
      "s^-2 q[1];\n",
      "h^-2 q[1];\n",
      "s^-2 q[1];\n",
      "cx^-1 q[1], q[0];\n",
      "cz^-1 q[0], q[1];\n",
      "h^-1 q[1];\n",
      "\n"
     ]
    }
   ],
   "source": [
    "print(c.to_qasm())"
   ]
  },
  {
   "cell_type": "code",
   "execution_count": 156,
   "id": "aca9f96c",
   "metadata": {
    "scrolled": true
   },
   "outputs": [],
   "source": [
    "cs = simp.CliffordSimplifier(c)\n",
    "cs.check_semantics_each_step = True"
   ]
  },
  {
   "cell_type": "code",
   "execution_count": 166,
   "id": "7f1499e4",
   "metadata": {},
   "outputs": [
    {
     "data": {
      "image/png": "[encoded data removed]",
      "text/plain": [
       "<Figure size 1290.63x200.667 with 1 Axes>"
      ]
     },
     "metadata": {},
     "output_type": "display_data"
    },
    {
     "data": {
      "text/latex": [
       "$\\displaystyle \\left[\\begin{matrix}0 & 0 & 2 & 1\\\\0 & 2 & 2 & 0\\\\0 & 1 & 0 & 0\\\\2 & 1 & 1 & 2\\end{matrix}\\right]$"
      ],
      "text/plain": [
       "Matrix([\n",
       "[0, 0, 2, 1],\n",
       "[0, 2, 2, 0],\n",
       "[0, 1, 0, 0],\n",
       "[2, 1, 1, 2]])"
      ]
     },
     "execution_count": 166,
     "metadata": {},
     "output_type": "execute_result"
    }
   ],
   "source": [
    "cs.simple_optimize()\n",
    "\n",
    "display(cs.circuit.draw())\n",
    "dizx.symplectic.modulo_matrix(cs.circuit.to_symplectic_matrix(),3)"
   ]
  },
  {
   "cell_type": "code",
   "execution_count": 181,
   "id": "d4928d76",
   "metadata": {},
   "outputs": [
    {
     "data": {
      "image/png": "[encoded data removed]",
      "text/plain": [
       "<Figure size 1123.41x200.667 with 1 Axes>"
      ]
     },
     "execution_count": 181,
     "metadata": {},
     "output_type": "execute_result"
    }
   ],
   "source": [
    "cs.circuit_list[-18].draw()"
   ]
  },
  {
   "cell_type": "code",
   "execution_count": 195,
   "id": "e2493ff6",
   "metadata": {},
   "outputs": [
    {
     "name": "stdout",
     "output_type": "stream",
     "text": [
      "Push S past CX\n",
      "None\n",
      "        CZ(0,1)\n",
      "                HAD(0)\n",
      "                        CX(0,1)\n",
      "                                CZ(0,1)\n",
      "                                        S^-4(0)\n",
      "                                                CX^-2(1,0)\n",
      "                                                        S^-1(1)\n",
      "                                                                HAD^3(1)\n",
      "                                                                        SWAP(0,1)\n",
      "                                                                                X^2(0)\n",
      "                                                                                HAD^6(1)\n",
      "                                                        S^-2(0)\n",
      "                                                                SWAP(0,1)\n",
      "                                                                        X^2(0)\n",
      "                                                                        HAD^6(1)\n",
      "\n"
     ]
    },
    {
     "data": {
      "image/png": "[encoded data removed]",
      "text/plain": [
       "<Figure size 1123.41x200.667 with 1 Axes>"
      ]
     },
     "execution_count": 195,
     "metadata": {},
     "output_type": "execute_result"
    }
   ],
   "source": [
    "index = -15\n",
    "print(cs.steps_done[index+1])\n",
    "print(cs.dags[index])\n",
    "cs.circuit_list[index].draw()"
   ]
  },
  {
   "cell_type": "code",
   "execution_count": 196,
   "id": "702b5ec1",
   "metadata": {},
   "outputs": [
    {
     "name": "stdout",
     "output_type": "stream",
     "text": [
      "OPENQASM 2.0;\n",
      "include \"qelib1.inc\";\n",
      "quditdim 3\n",
      "qreg q[2];\n",
      "cz q[0], q[1];\n",
      "h q[0];\n",
      "cx q[0], q[1];\n",
      "cz q[0], q[1];\n",
      "s^-4 q[0];\n",
      "cx^-2 q[1], q[0];\n",
      "s^-1 q[1];\n",
      "h^3 q[1];\n",
      "s^-2 q[0];\n",
      "swap q[0], q[1];\n",
      "x^2 q[0];\n",
      "h^6 q[1];\n",
      "\n"
     ]
    }
   ],
   "source": [
    "print(cs.circuit_list[index].to_qasm())"
   ]
  },
  {
   "cell_type": "code",
   "execution_count": 197,
   "id": "913266ae",
   "metadata": {},
   "outputs": [
    {
     "data": {
      "image/png": "[encoded data removed]",
      "text/plain": [
       "<Figure size 788.961x200.667 with 1 Axes>"
      ]
     },
     "execution_count": 197,
     "metadata": {},
     "output_type": "execute_result"
    }
   ],
   "source": [
    "# TODO: This rewrite breaks the DAG structure.\n",
    "c = dizx.Circuit.from_qasm_file(r'..\\circuits\\S_push_past_CX1.qasm')\n",
    "display(c.draw())\n",
    "cs2 = simp.CliffordSimplifier(c)\n",
    "print(cs2.dag)\n",
    "cs2.push_S_past_CX()\n",
    "print(cs2.dag)"
   ]
  },
  {
   "cell_type": "code",
   "execution_count": 198,
   "id": "d8dbfbf1",
   "metadata": {},
   "outputs": [
    {
     "name": "stdout",
     "output_type": "stream",
     "text": [
      "None\n",
      "        S^-4(0)\n",
      "                CX^-2(1,0)\n",
      "                        S^-1(1)\n",
      "                                HAD^3(1)\n",
      "                                        SWAP(0,1)\n",
      "                                                X^2(0)\n",
      "                                                HAD^6(1)\n",
      "                        S^-2(0)\n",
      "                                SWAP(0,1)\n",
      "                                        X^2(0)\n",
      "                                        HAD^6(1)\n",
      "\n",
      "None\n",
      "        CX^-2(1,0)\n",
      "                S^-2(0)\n",
      "                        SWAP(0,1)\n",
      "                                X^2(0)\n",
      "                                HAD^6(1)\n",
      "                CZ^-8(1,0)\n",
      "                        S^-4(0)\n",
      "                                SWAP(0,1)\n",
      "                                        X^2(0)\n",
      "                                        HAD^6(1)\n",
      "                        S^-16(1)\n",
      "                                Z^-4.0(1)\n",
      "                                        S^-1(1)\n",
      "                                                HAD^3(1)\n",
      "                                                        SWAP(0,1)\n",
      "                                                                X^2(0)\n",
      "                                                                HAD^6(1)\n",
      "\n"
     ]
    }
   ],
   "source": []
  },
  {
   "cell_type": "code",
   "execution_count": 164,
   "id": "487a9bba",
   "metadata": {},
   "outputs": [
    {
     "data": {
      "text/plain": [
       "True"
      ]
     },
     "execution_count": 164,
     "metadata": {},
     "output_type": "execute_result"
    }
   ],
   "source": [
    "cs.push_CZ_past_CX()"
   ]
  },
  {
   "cell_type": "code",
   "execution_count": 162,
   "id": "a77fc439",
   "metadata": {},
   "outputs": [
    {
     "data": {
      "text/plain": [
       "True"
      ]
     },
     "execution_count": 162,
     "metadata": {},
     "output_type": "execute_result"
    }
   ],
   "source": [
    "cs.push_S_past_CX()"
   ]
  },
  {
   "cell_type": "code",
   "execution_count": 160,
   "id": "1fa660f6",
   "metadata": {},
   "outputs": [
    {
     "data": {
      "text/plain": [
       "True"
      ]
     },
     "execution_count": 160,
     "metadata": {},
     "output_type": "execute_result"
    }
   ],
   "source": [
    "cs.push_H_gate()"
   ]
  },
  {
   "cell_type": "code",
   "execution_count": 71,
   "id": "4e3fd91b",
   "metadata": {},
   "outputs": [
    {
     "data": {
      "text/plain": [
       "False"
      ]
     },
     "execution_count": 71,
     "metadata": {},
     "output_type": "execute_result"
    }
   ],
   "source": [
    "cs.transform_CX_to_SWAP()"
   ]
  },
  {
   "cell_type": "code",
   "execution_count": 153,
   "id": "47f16c07",
   "metadata": {},
   "outputs": [
    {
     "name": "stdout",
     "output_type": "stream",
     "text": [
      "Push H^2\n",
      "Push SWAP\n",
      "Push H^2\n",
      "Push SWAP\n",
      "Push H^2\n",
      "Push SWAP\n",
      "Push H^2\n",
      "Push SWAP\n",
      "Push H^2\n",
      "Push SWAP\n",
      "Push H^2\n",
      "Push SWAP\n",
      "Push H^2\n",
      "Push SWAP\n",
      "Push H^2\n",
      "Push SWAP\n",
      "Push H^2\n",
      "Push SWAP\n",
      "Push H^2\n",
      "Push SWAP\n",
      "Push H^2\n",
      "Push SWAP\n",
      "Push H^2\n",
      "Push SWAP\n",
      "Push H^2\n",
      "Push SWAP\n",
      "Push H^2\n",
      "Push SWAP\n",
      "Push H^2\n",
      "Push SWAP\n",
      "Push H^2\n",
      "Push SWAP\n",
      "Push H^2\n",
      "Push SWAP\n",
      "Push H^2\n",
      "Push SWAP\n",
      "Push H^2\n",
      "Push SWAP\n",
      "Push H^2\n",
      "Push SWAP\n",
      "Push H^2\n",
      "Push SWAP\n",
      "Push H^2\n",
      "Push SWAP\n",
      "Push H^2\n",
      "Push SWAP\n",
      "Push H^2\n",
      "Push SWAP\n",
      "Push H^2\n",
      "Push SWAP\n",
      "Push H^2\n",
      "Push SWAP\n",
      "Push H^2\n",
      "Push SWAP\n",
      "Push H^2\n",
      "Push SWAP\n",
      "Push H^2\n",
      "Push SWAP\n",
      "Push H^2\n",
      "Push SWAP\n",
      "Push H^2\n",
      "Push SWAP\n",
      "Push H^2\n",
      "Push SWAP\n",
      "Push H^2\n",
      "Push SWAP\n",
      "Push H^2\n",
      "Push SWAP\n",
      "Push H^2\n",
      "Push SWAP\n",
      "Push H^2\n",
      "Push SWAP\n",
      "Push H^2\n",
      "Push SWAP\n",
      "Push H^2\n",
      "Push SWAP\n",
      "Push H^2\n",
      "Push SWAP\n",
      "Push H^2\n",
      "Push SWAP\n",
      "Push H^2\n",
      "Push SWAP\n",
      "Push H^2\n",
      "Push SWAP\n",
      "Push H^2\n",
      "Push SWAP\n",
      "Push H^2\n",
      "Push SWAP\n",
      "Push H^2\n",
      "Push SWAP\n",
      "Push H^2\n",
      "Push SWAP\n",
      "Push H^2\n",
      "Push SWAP\n",
      "Push H^2\n",
      "Push SWAP\n",
      "Push H^2\n",
      "Push SWAP\n",
      "Push H^2\n",
      "Push SWAP\n"
     ]
    }
   ],
   "source": [
    "for d in cs.steps_done[-100:]:\n",
    "    print(d)"
   ]
  },
  {
   "cell_type": "code",
   "execution_count": 128,
   "id": "a88c0104",
   "metadata": {},
   "outputs": [
    {
     "data": {
      "image/png": "[encoded data removed]",
      "text/plain": [
       "<Figure size 1290.63x200.667 with 1 Axes>"
      ]
     },
     "metadata": {},
     "output_type": "display_data"
    },
    {
     "name": "stdout",
     "output_type": "stream",
     "text": [
      "None\n",
      "        CZ(0,1)\n",
      "                HAD(0)\n",
      "                        CX(0,1)\n",
      "                                CZ(0,1)\n",
      "                                        S^-4(0)\n",
      "                                                HAD^3(0)\n",
      "                                                        CZ^-2(0,1)\n",
      "                                                                HAD^3(0)\n",
      "                                                                        S^-2(0)\n",
      "                                                                                SWAP(0,1)\n",
      "                                                                                        Z(1)\n",
      "                                                                                        X^2(0)\n",
      "                                                                S^-1(1)\n",
      "                                                                        HAD^3(1)\n",
      "                                                                                SWAP(0,1)\n",
      "                                                                                        Z(1)\n",
      "                                                                                        X^2(0)\n",
      "\n"
     ]
    }
   ],
   "source": [
    "display(cs.circuit_list[-2].draw())\n",
    "print(cs.dags[-2])"
   ]
  },
  {
   "cell_type": "code",
   "execution_count": 143,
   "id": "9e8b439b",
   "metadata": {},
   "outputs": [
    {
     "data": {
      "image/png": "[encoded data removed]",
      "text/plain": [
       "<Figure size 1039.79x200.667 with 1 Axes>"
      ]
     },
     "metadata": {},
     "output_type": "display_data"
    },
    {
     "name": "stdout",
     "output_type": "stream",
     "text": [
      "None\n",
      "        CZ(0,1)\n",
      "                HAD(0)\n",
      "                        CX(0,1)\n",
      "                                CZ(0,1)\n",
      "                                        S^-4(0)\n",
      "                                                CX^-2(1,0)\n",
      "                                                        S^-1(1)\n",
      "                                                                HAD^3(1)\n",
      "                                                                        SWAP(0,1)\n",
      "                                                                                X^2(0)\n",
      "                                                        S^-2(0)\n",
      "                                                                HAD^6(0)\n",
      "                                                                        SWAP(0,1)\n",
      "                                                                                X^2(0)\n",
      "\n"
     ]
    }
   ],
   "source": [
    "display(cs.circuit_list[-1].draw())\n",
    "print(cs.dags[-1])"
   ]
  },
  {
   "cell_type": "code",
   "execution_count": 8,
   "id": "41fa12a6",
   "metadata": {},
   "outputs": [
    {
     "name": "stdout",
     "output_type": "stream",
     "text": [
      "Matrix([[1, 0, 0, 0], [-4, 1, 1, 4], [-1, 0, 1, 3], [1, 0, 0, 1]])\n",
      "Matrix([[1, 0, 0, 0], [2, 1, 1, -2], [-10, 0, -1, -8], [-1, 0, 0, -1]])\n"
     ]
    }
   ],
   "source": [
    "print(c.to_symplectic_matrix())\n",
    "print(c2.to_symplectic_matrix())\n",
    "#dizx.symplectic.compare_matrices(,c2.to_symplectic_matrix(),3)"
   ]
  },
  {
   "cell_type": "code",
   "execution_count": 6,
   "id": "b3e514df",
   "metadata": {},
   "outputs": [
    {
     "data": {
      "image/png": "[encoded data removed]",
      "text/plain": [
       "<Figure size 1290.63x200.667 with 1 Axes>"
      ]
     },
     "execution_count": 6,
     "metadata": {},
     "output_type": "execute_result"
    }
   ],
   "source": [
    "c2 = dizx.Circuit.from_qasm_file('../circuits/pauli_push1.qasm')\n",
    "c2.draw()"
   ]
  },
  {
   "cell_type": "code",
   "execution_count": null,
   "id": "1548200c",
   "metadata": {},
   "outputs": [],
   "source": [
    "cs = simp.CliffordSimplifier(c)\n",
    "cs.simple_optimize()\n",
    "cs.push_CZ_past_CX()\n",
    "cs.simple_optimize()\n",
    "cs.transform_CX_to_SWAP()\n",
    "cs.simple_optimize()\n",
    "cs.transform_CX_to_SWAP()\n",
    "cs.circuit.draw()"
   ]
  },
  {
   "cell_type": "code",
   "execution_count": null,
   "id": "3c18220e",
   "metadata": {},
   "outputs": [],
   "source": [
    "cs.circuit.to_symplectic_matrix()"
   ]
  },
  {
   "cell_type": "code",
   "execution_count": null,
   "id": "6e920642",
   "metadata": {},
   "outputs": [],
   "source": [
    "c.to_symplectic_matrix()"
   ]
  },
  {
   "cell_type": "code",
   "execution_count": null,
   "id": "edea57c5",
   "metadata": {},
   "outputs": [],
   "source": [
    "cs.push_CZ_past_CX()"
   ]
  },
  {
   "cell_type": "code",
   "execution_count": null,
   "id": "c841ecae",
   "metadata": {},
   "outputs": [],
   "source": [
    "cs.push_S_past_CX()"
   ]
  },
  {
   "cell_type": "code",
   "execution_count": null,
   "id": "bb2f4e1e",
   "metadata": {},
   "outputs": [],
   "source": [
    "print(cs.dag)"
   ]
  },
  {
   "cell_type": "code",
   "execution_count": null,
   "id": "b85bfac9",
   "metadata": {},
   "outputs": [],
   "source": [
    "\"hoi\""
   ]
  },
  {
   "cell_type": "code",
   "execution_count": null,
   "id": "f518b0c2",
   "metadata": {
    "scrolled": true
   },
   "outputs": [],
   "source": [
    "cs.display_widget()"
   ]
  },
  {
   "cell_type": "code",
   "execution_count": 131,
   "id": "a90b8aab",
   "metadata": {},
   "outputs": [
    {
     "data": {
      "image/png": "[encoded data removed]",
      "text/plain": [
       "<Figure size 538.128x200.667 with 1 Axes>"
      ]
     },
     "execution_count": 131,
     "metadata": {},
     "output_type": "execute_result"
    }
   ],
   "source": [
    "c = dizx.Circuit(2,3)\n",
    "c += HAD(0)\n",
    "c += CX(1,0)\n",
    "c += HAD(0)**3\n",
    "c += CZ(1,0)**-1\n",
    "c.to_qiskit_rep().draw(\"mpl\")"
   ]
  },
  {
   "cell_type": "code",
   "execution_count": 132,
   "id": "b7eff9f9",
   "metadata": {},
   "outputs": [
    {
     "data": {
      "text/latex": [
       "$\\displaystyle \\left[\\begin{matrix}1 & 0 & 0 & 0\\\\0 & 1 & 0 & 0\\\\0 & 0 & 1 & 0\\\\0 & 0 & 0 & 1\\end{matrix}\\right]$"
      ],
      "text/plain": [
       "Matrix([\n",
       "[1, 0, 0, 0],\n",
       "[0, 1, 0, 0],\n",
       "[0, 0, 1, 0],\n",
       "[0, 0, 0, 1]])"
      ]
     },
     "execution_count": 132,
     "metadata": {},
     "output_type": "execute_result"
    }
   ],
   "source": [
    "c.to_symplectic_matrix()"
   ]
  },
  {
   "cell_type": "code",
   "execution_count": null,
   "id": "200340bb",
   "metadata": {},
   "outputs": [],
   "source": [
    "cs2 = simp.CliffordSimplifier(c)\n",
    "cs2.push_S_gate()"
   ]
  },
  {
   "cell_type": "code",
   "execution_count": null,
   "id": "5ead7980",
   "metadata": {},
   "outputs": [],
   "source": [
    "print(cs2.dag)\n",
    "cs2.circuit.to_qiskit_rep().draw(\"mpl\")"
   ]
  },
  {
   "cell_type": "code",
   "execution_count": null,
   "id": "a57e15ea",
   "metadata": {},
   "outputs": [],
   "source": [
    "cs.push_CZ_past_CX()"
   ]
  },
  {
   "cell_type": "code",
   "execution_count": null,
   "id": "59ba0f4c",
   "metadata": {},
   "outputs": [],
   "source": [
    "StepperWidget(cs).show()"
   ]
  },
  {
   "cell_type": "code",
   "execution_count": null,
   "id": "74e22c4a",
   "metadata": {},
   "outputs": [],
   "source": [
    "cs.push_CZ_past_CX()"
   ]
  },
  {
   "cell_type": "code",
   "execution_count": null,
   "id": "ccd6ce91",
   "metadata": {},
   "outputs": [],
   "source": [
    "for circ in cs.circuit_list:\n",
    "    print(circ)"
   ]
  },
  {
   "cell_type": "code",
   "execution_count": null,
   "id": "2c5e4a26",
   "metadata": {},
   "outputs": [],
   "source": [
    "cs.euler_decomp()"
   ]
  },
  {
   "cell_type": "code",
   "execution_count": null,
   "id": "f8c63b5a",
   "metadata": {},
   "outputs": [],
   "source": [
    "cs.euler_decomp2()"
   ]
  },
  {
   "cell_type": "code",
   "execution_count": null,
   "id": "3a153c8c",
   "metadata": {},
   "outputs": [],
   "source": [
    "cs.dag"
   ]
  }
 ],
 "metadata": {
  "kernelspec": {
   "display_name": "Python 3 (ipykernel)",
   "language": "python",
   "name": "python3"
  },
  "language_info": {
   "codemirror_mode": {
    "name": "ipython",
    "version": 3
   },
   "file_extension": ".py",
   "mimetype": "text/x-python",
   "name": "python",
   "nbconvert_exporter": "python",
   "pygments_lexer": "ipython3",
   "version": "3.11.2"
  }
 },
 "nbformat": 4,
 "nbformat_minor": 5
}
