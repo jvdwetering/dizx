{
 "cells": [
  {
   "cell_type": "code",
   "execution_count": 3,
   "id": "c2f956a7",
   "metadata": {},
   "outputs": [],
   "source": [
    "%load_ext autoreload\n",
    "%autoreload 2\n",
    "import sys\n",
    "sys.path.append('..')"
   ]
  },
  {
   "cell_type": "code",
   "execution_count": 4,
   "id": "94bf354c",
   "metadata": {},
   "outputs": [],
   "source": [
    "import dizx\n",
    "from dizx import Edge\n",
    "from dizx import clifford_simplifier as simp\n",
    "Phase = dizx.CliffordPhase\n",
    "d = 3\n",
    "Z = dizx.VertexType.Z\n",
    "X = dizx.VertexType.X"
   ]
  },
  {
   "cell_type": "code",
   "execution_count": 53,
   "id": "1de846c3",
   "metadata": {},
   "outputs": [],
   "source": [
    "from sympy import symbols\n",
    "a = symbols(\"a\")\n",
    "ainv = symbols(\"ainv\")\n",
    "b = symbols(\"b\")\n",
    "binv = symbols(\"binv\")\n",
    "Hadj = dizx.gates.HAD(0,adjoint=True)\n",
    "H = dizx.gates.HAD(0)\n",
    "S = dizx.gates.S(0)\n",
    "\n",
    "lhs = dizx.Circuit(qudit_amount=1, dim=3)\n",
    "lhs += H**-1 + S**-a + H**-1 + S**-ainv + H**-1 + S**(-a*(b+1)) + H\n"
   ]
  },
  {
   "cell_type": "code",
   "execution_count": 54,
   "id": "a721664c",
   "metadata": {},
   "outputs": [
    {
     "data": {
      "image/png": "[encoded data removed]",
      "text/plain": [
       "<Figure size 1188.79x117.056 with 1 Axes>"
      ]
     },
     "execution_count": 54,
     "metadata": {},
     "output_type": "execute_result"
    }
   ],
   "source": [
    "lhs.draw()"
   ]
  },
  {
   "cell_type": "code",
   "execution_count": 55,
   "id": "736ebfc9",
   "metadata": {},
   "outputs": [
    {
     "data": {
      "text/latex": [
       "$\\displaystyle \\left[\\begin{matrix}a ainv \\left(b + 1\\right) - 1 & a \\left(b + 1\\right) \\left(a ainv - 1\\right) - a\\\\ainv & a ainv - 1\\end{matrix}\\right]$"
      ],
      "text/plain": [
       "Matrix([\n",
       "[a*ainv*(b + 1) - 1, a*(b + 1)*(a*ainv - 1) - a],\n",
       "[              ainv,                 a*ainv - 1]])"
      ]
     },
     "execution_count": 55,
     "metadata": {},
     "output_type": "execute_result"
    }
   ],
   "source": [
    "m = lhs.to_symplectic_matrix()\n",
    "m"
   ]
  },
  {
   "cell_type": "code",
   "execution_count": 56,
   "id": "f2cc323d",
   "metadata": {},
   "outputs": [
    {
     "data": {
      "text/latex": [
       "$\\displaystyle \\left[\\begin{matrix}b & - a\\\\ainv & 0\\end{matrix}\\right]$"
      ],
      "text/plain": [
       "Matrix([\n",
       "[   b, -a],\n",
       "[ainv,  0]])"
      ]
     },
     "execution_count": 56,
     "metadata": {},
     "output_type": "execute_result"
    }
   ],
   "source": [
    "dizx.symplectic.reduce_matrix(m,[(a,ainv),(b,binv)])"
   ]
  },
  {
   "cell_type": "code",
   "execution_count": 114,
   "id": "be44dede",
   "metadata": {},
   "outputs": [],
   "source": [
    "#R28 from supplement, but with each S replaced by S**2 to match our semantics. Also had to add another CZ at start to fix semantics.\n",
    "from dizx.circuit.gates import CZ, CX, HAD, S, Z, X\n",
    "\n",
    "lhs = dizx.Circuit(qudit_amount=2, dim=3)\n",
    "lhs += CZ(0,1)\n",
    "lhs += HAD(0)**2 + HAD(1)\n",
    "lhs += CZ(0,1)\n",
    "lhs += CX(1,0)\n",
    "rhs = dizx.Circuit(qudit_amount=2, dim=3)\n",
    "rhs += HAD(1)\n",
    "rhs += CZ(0,1) + CX(1,0)\n",
    "rhs += S(1)**2 + HAD(1)**2 + S(1)**2\n",
    "rhs += CX(0,1)**2\n",
    "rhs += S(1)**2 + Z(1)\n"
   ]
  },
  {
   "cell_type": "code",
   "execution_count": 15,
   "id": "09bbfa54",
   "metadata": {},
   "outputs": [
    {
     "data": {
      "text/plain": [
       "True"
      ]
     },
     "execution_count": 15,
     "metadata": {},
     "output_type": "execute_result"
    }
   ],
   "source": [
    "dizx.symplectic.compare_matrices(lhs.to_symplectic_matrix(), rhs.to_symplectic_matrix(), modulus=3)"
   ]
  },
  {
   "cell_type": "code",
   "execution_count": 163,
   "id": "9ac111c4",
   "metadata": {},
   "outputs": [],
   "source": [
    "#R27 from supplement, but with each S replaced by S**2 to match our semantics.\n",
    "from dizx.circuit.gates import SWAP\n",
    "\n",
    "lhs = dizx.Circuit(qudit_amount=2, dim=3)\n",
    "lhs += CZ(0,1)\n",
    "lhs += HAD(0)\n",
    "lhs += SWAP(0,1)\n",
    "lhs += CZ(0,1)\n",
    "lhs += CX(1,0)\n",
    "rhs = dizx.Circuit(qudit_amount=2, dim=3)\n",
    "rhs += S(1)**2 + HAD(0)\n",
    "rhs += S(0) + HAD(1)\n",
    "rhs += CZ(0,1)**2\n",
    "rhs += HAD(1) + S(1)**2"
   ]
  },
  {
   "cell_type": "code",
   "execution_count": 260,
   "id": "02f812e5",
   "metadata": {},
   "outputs": [
    {
     "data": {
      "image/png": "[encoded data removed]",
      "text/plain": [
       "<Figure size 1207.02x200.667 with 1 Axes>"
      ]
     },
     "metadata": {},
     "output_type": "display_data"
    },
    {
     "data": {
      "text/latex": [
       "$\\displaystyle \\left[\\begin{matrix}1 & 0 & 0 & 0\\\\0 & 1 & 0 & 0\\\\0 & 0 & 1 & 0\\\\0 & 0 & 0 & 1\\end{matrix}\\right]$"
      ],
      "text/plain": [
       "Matrix([\n",
       "[1, 0, 0, 0],\n",
       "[0, 1, 0, 0],\n",
       "[0, 0, 1, 0],\n",
       "[0, 0, 0, 1]])"
      ]
     },
     "execution_count": 260,
     "metadata": {},
     "output_type": "execute_result"
    }
   ],
   "source": [
    "c = lhs + rhs.adjoint()\n",
    "display(c.draw())\n",
    "dizx.symplectic.modulo_matrix(c.to_symplectic_matrix(),3)"
   ]
  },
  {
   "cell_type": "code",
   "execution_count": 261,
   "id": "aca9f96c",
   "metadata": {
    "scrolled": true
   },
   "outputs": [],
   "source": [
    "cs = simp.CliffordSimplifier(c)\n",
    "cs.check_semantics_each_step = True"
   ]
  },
  {
   "cell_type": "code",
   "execution_count": 268,
   "id": "360e6a11",
   "metadata": {},
   "outputs": [
    {
     "data": {
      "image/png": "[encoded data removed]",
      "text/plain": [
       "<Figure size 161.878x200.667 with 1 Axes>"
      ]
     },
     "metadata": {},
     "output_type": "display_data"
    },
    {
     "data": {
      "text/latex": [
       "$\\displaystyle \\left[\\begin{matrix}1 & 0 & 0 & 0\\\\0 & 1 & 0 & 0\\\\0 & 0 & 1 & 0\\\\0 & 0 & 0 & 1\\end{matrix}\\right]$"
      ],
      "text/plain": [
       "Matrix([\n",
       "[1, 0, 0, 0],\n",
       "[0, 1, 0, 0],\n",
       "[0, 0, 1, 0],\n",
       "[0, 0, 0, 1]])"
      ]
     },
     "execution_count": 268,
     "metadata": {},
     "output_type": "execute_result"
    }
   ],
   "source": [
    "cs.simple_optimize()\n",
    "\n",
    "display(cs.circuit.draw())\n",
    "dizx.symplectic.modulo_matrix(cs.circuit.to_symplectic_matrix(),3)"
   ]
  },
  {
   "cell_type": "code",
   "execution_count": 147,
   "id": "ec14857c",
   "metadata": {},
   "outputs": [
    {
     "data": {
      "text/plain": [
       "True"
      ]
     },
     "execution_count": 147,
     "metadata": {},
     "output_type": "execute_result"
    }
   ],
   "source": [
    "cs.push_S_past_CX()"
   ]
  },
  {
   "cell_type": "code",
   "execution_count": 149,
   "id": "2fc22f9e",
   "metadata": {},
   "outputs": [
    {
     "data": {
      "text/plain": [
       "True"
      ]
     },
     "execution_count": 149,
     "metadata": {},
     "output_type": "execute_result"
    }
   ],
   "source": [
    "cs.push_CZ_past_CX()"
   ]
  },
  {
   "cell_type": "code",
   "execution_count": 267,
   "id": "17da0b90",
   "metadata": {},
   "outputs": [
    {
     "data": {
      "text/plain": [
       "True"
      ]
     },
     "execution_count": 267,
     "metadata": {},
     "output_type": "execute_result"
    }
   ],
   "source": [
    "cs.push_H_gate()"
   ]
  },
  {
   "cell_type": "code",
   "execution_count": 265,
   "id": "1aa50067",
   "metadata": {},
   "outputs": [
    {
     "data": {
      "text/plain": [
       "True"
      ]
     },
     "execution_count": 265,
     "metadata": {},
     "output_type": "execute_result"
    }
   ],
   "source": [
    "cs.transform_CX_to_SWAP()"
   ]
  },
  {
   "cell_type": "code",
   "execution_count": 158,
   "id": "828206d6",
   "metadata": {},
   "outputs": [
    {
     "data": {
      "text/plain": [
       "True"
      ]
     },
     "execution_count": 158,
     "metadata": {},
     "output_type": "execute_result"
    }
   ],
   "source": [
    "cs.toggle_pair_of_CX_gates()"
   ]
  },
  {
   "cell_type": "code",
   "execution_count": null,
   "id": "e078ffd2",
   "metadata": {},
   "outputs": [
    {
     "data": {
      "application/vnd.jupyter.widget-view+json": {
       "model_id": "6be4a93690e34d8ca9692aea8d79a59c",
       "version_major": 2,
       "version_minor": 0
      },
      "text/plain": [
       "VBox(children=(HBox(children=(Button(description='Previous', style=ButtonStyle()), Button(description='Next', …"
      ]
     },
     "metadata": {},
     "output_type": "display_data"
    }
   ],
   "source": [
    "cs.display_widget()"
   ]
  },
  {
   "cell_type": "code",
   "execution_count": 234,
   "id": "b3e24329",
   "metadata": {},
   "outputs": [
    {
     "name": "stdout",
     "output_type": "stream",
     "text": [
      "Remove identity\n",
      "None\n",
      "        CZ(0,1)\n",
      "                HAD(0)\n",
      "                        CX(0,1)\n",
      "                                CX^2(1,0)\n",
      "                                        HAD^3(1)\n",
      "                                                SWAP(0,1)\n",
      "                                                        HAD^6(1)\n",
      "                                                        X^4(0)\n",
      "\n"
     ]
    },
    {
     "data": {
      "image/png": "[encoded data removed]",
      "text/plain": [
       "<Figure size 872.572x200.667 with 1 Axes>"
      ]
     },
     "execution_count": 234,
     "metadata": {},
     "output_type": "execute_result"
    }
   ],
   "source": [
    "index = -2\n",
    "print(cs.steps_done[index])\n",
    "print(cs.dags[index])\n",
    "cs.circuit_list[index].draw()"
   ]
  },
  {
   "cell_type": "code",
   "execution_count": 235,
   "id": "124cd47d",
   "metadata": {},
   "outputs": [
    {
     "name": "stdout",
     "output_type": "stream",
     "text": [
      "OPENQASM 2.0;\n",
      "include \"qelib1.inc\";\n",
      "quditdim 3\n",
      "qreg q[2];\n",
      "cz q[0], q[1];\n",
      "h q[0];\n",
      "cx q[0], q[1];\n",
      "cx^2 q[1], q[0];\n",
      "h^3 q[1];\n",
      "swap q[0], q[1];\n",
      "h^6 q[1];\n",
      "x^4 q[0];\n",
      "\n"
     ]
    }
   ],
   "source": [
    "print(cs.circuit_list[index].to_qasm())"
   ]
  },
  {
   "cell_type": "code",
   "execution_count": 169,
   "id": "fb9c7a0d",
   "metadata": {},
   "outputs": [
    {
     "data": {
      "image/png": "[encoded data removed]",
      "text/plain": [
       "<Figure size 1374.24x200.667 with 1 Axes>"
      ]
     },
     "execution_count": 169,
     "metadata": {},
     "output_type": "execute_result"
    }
   ],
   "source": [
    "cs.circuit.draw()"
   ]
  },
  {
   "cell_type": "code",
   "execution_count": 236,
   "id": "6a588be4",
   "metadata": {},
   "outputs": [
    {
     "data": {
      "image/png": "[encoded data removed]",
      "text/plain": [
       "<Figure size 872.572x200.667 with 1 Axes>"
      ]
     },
     "metadata": {},
     "output_type": "display_data"
    },
    {
     "name": "stdout",
     "output_type": "stream",
     "text": [
      "None\n",
      "        CZ(0,1)\n",
      "                HAD(0)\n",
      "                        CX(0,1)\n",
      "                                CX^2(1,0)\n",
      "                                        HAD^3(1)\n",
      "                                                SWAP(0,1)\n",
      "                                                        HAD^6(1)\n",
      "                                                        X^4(0)\n",
      "\n",
      "None\n",
      "        CZ(0,1)\n",
      "                HAD(0)\n",
      "                        CX^-2(1,0)\n",
      "                                SWAP(0,1)\n",
      "                                        HAD^3(1)\n",
      "                                                SWAP(0,1)\n",
      "                                                        HAD^6(1)\n",
      "                                                        X^4(0)\n",
      "                                        HAD^2(0)\n",
      "                                                SWAP(0,1)\n",
      "                                                        HAD^6(1)\n",
      "                                                        X^4(0)\n",
      "\n"
     ]
    },
    {
     "data": {
      "image/png": "[encoded data removed]",
      "text/plain": [
       "<Figure size 872.572x200.667 with 1 Axes>"
      ]
     },
     "execution_count": 236,
     "metadata": {},
     "output_type": "execute_result"
    }
   ],
   "source": [
    "# TODO: This rewrite breaks DAG structure\n",
    "c = dizx.Circuit.from_qasm_file(r'..\\tests\\circuits\\transform_CX_to_SWAP.qasm')\n",
    "display(c.draw())\n",
    "cs2 = simp.CliffordSimplifier(c)\n",
    "print(cs2.dag)\n",
    "cs2.transform_CX_to_SWAP()\n",
    "print(cs2.dag)\n",
    "cs2.circuit.draw()"
   ]
  },
  {
   "cell_type": "code",
   "execution_count": 237,
   "id": "8bb7469f",
   "metadata": {},
   "outputs": [
    {
     "data": {
      "text/latex": [
       "$\\displaystyle \\left[\\begin{matrix}-1 & 0 & 0 & 3\\\\0 & -1 & 0 & 0\\\\0 & 3 & -1 & 0\\\\0 & 0 & 0 & -1\\end{matrix}\\right]$"
      ],
      "text/plain": [
       "Matrix([\n",
       "[-1,  0,  0,  3],\n",
       "[ 0, -1,  0,  0],\n",
       "[ 0,  3, -1,  0],\n",
       "[ 0,  0,  0, -1]])"
      ]
     },
     "metadata": {},
     "output_type": "display_data"
    },
    {
     "data": {
      "text/latex": [
       "$\\displaystyle \\left[\\begin{matrix}1 & 0 & 0 & 0\\\\0 & 1 & -3 & 0\\\\0 & 0 & 1 & 0\\\\-3 & 0 & 0 & 1\\end{matrix}\\right]$"
      ],
      "text/plain": [
       "Matrix([\n",
       "[ 1, 0,  0, 0],\n",
       "[ 0, 1, -3, 0],\n",
       "[ 0, 0,  1, 0],\n",
       "[-3, 0,  0, 1]])"
      ]
     },
     "metadata": {},
     "output_type": "display_data"
    },
    {
     "data": {
      "text/plain": [
       "False"
      ]
     },
     "execution_count": 237,
     "metadata": {},
     "output_type": "execute_result"
    }
   ],
   "source": [
    "m1 = cs2.circuit_list[0].to_symplectic_matrix()\n",
    "m2 = cs2.circuit.to_symplectic_matrix()\n",
    "display(m1)\n",
    "display(m2)\n",
    "dizx.symplectic.compare_matrices(m1,m2,modulus=3)"
   ]
  },
  {
   "cell_type": "code",
   "execution_count": 247,
   "id": "dfaa6dfa",
   "metadata": {},
   "outputs": [
    {
     "data": {
      "image/png": "[encoded data removed]",
      "text/plain": [
       "<Figure size 287.294x200.667 with 1 Axes>"
      ]
     },
     "execution_count": 247,
     "metadata": {},
     "output_type": "execute_result"
    }
   ],
   "source": [
    "qasm = r\"\"\"\n",
    "OPENQASM 2.0;\n",
    "include \"qelib1.inc\";\n",
    "quditdim 3\n",
    "qreg q[2];\n",
    "cx q[0], q[1];\n",
    "cx^2 q[1], q[0];\n",
    "\"\"\"\n",
    "c = dizx.Circuit.from_qasm(qasm)\n",
    "c.draw()"
   ]
  },
  {
   "cell_type": "code",
   "execution_count": 246,
   "id": "57c4d005",
   "metadata": {},
   "outputs": [
    {
     "data": {
      "text/latex": [
       "$\\displaystyle \\left[\\begin{matrix}1 & 0 & 0 & 0\\\\0 & 1 & 0 & -1\\\\1 & 0 & 1 & 0\\\\0 & 0 & 0 & 1\\end{matrix}\\right]$"
      ],
      "text/plain": [
       "Matrix([\n",
       "[1, 0, 0,  0],\n",
       "[0, 1, 0, -1],\n",
       "[1, 0, 1,  0],\n",
       "[0, 0, 0,  1]])"
      ]
     },
     "execution_count": 246,
     "metadata": {},
     "output_type": "execute_result"
    }
   ],
   "source": [
    "dizx.symplectic.CX(0,1,2,1)"
   ]
  },
  {
   "cell_type": "code",
   "execution_count": 248,
   "id": "595b01c5",
   "metadata": {},
   "outputs": [
    {
     "data": {
      "image/png": "[encoded data removed]",
      "text/plain": [
       "<Figure size 454.517x200.667 with 1 Axes>"
      ]
     },
     "execution_count": 248,
     "metadata": {},
     "output_type": "execute_result"
    }
   ],
   "source": [
    "cs = simp.CliffordSimplifier(c)\n",
    "cs.transform_CX_to_SWAP()\n",
    "cs.circuit.draw()"
   ]
  },
  {
   "cell_type": "code",
   "execution_count": 249,
   "id": "d4c9bf11",
   "metadata": {},
   "outputs": [
    {
     "data": {
      "text/latex": [
       "$\\displaystyle \\left[\\begin{matrix}0 & 0 & 2 & 0\\\\0 & 1 & 0 & 2\\\\1 & 0 & 1 & 0\\\\0 & 1 & 0 & 0\\end{matrix}\\right]$"
      ],
      "text/plain": [
       "Matrix([\n",
       "[0, 0, 2, 0],\n",
       "[0, 1, 0, 2],\n",
       "[1, 0, 1, 0],\n",
       "[0, 1, 0, 0]])"
      ]
     },
     "metadata": {},
     "output_type": "display_data"
    },
    {
     "data": {
      "text/latex": [
       "$\\displaystyle \\left[\\begin{matrix}0 & 0 & 2 & 0\\\\0 & 1 & 0 & 2\\\\1 & 0 & 1 & 0\\\\0 & 1 & 0 & 0\\end{matrix}\\right]$"
      ],
      "text/plain": [
       "Matrix([\n",
       "[0, 0, 2, 0],\n",
       "[0, 1, 0, 2],\n",
       "[1, 0, 1, 0],\n",
       "[0, 1, 0, 0]])"
      ]
     },
     "metadata": {},
     "output_type": "display_data"
    },
    {
     "data": {
      "text/plain": [
       "True"
      ]
     },
     "execution_count": 249,
     "metadata": {},
     "output_type": "execute_result"
    }
   ],
   "source": [
    "m1 = cs.circuit_list[0].to_symplectic_matrix()\n",
    "m2 = cs.circuit.to_symplectic_matrix()\n",
    "m1 = dizx.symplectic.modulo_matrix(m1,3)\n",
    "m2 = dizx.symplectic.modulo_matrix(m2,3)\n",
    "display(m1)\n",
    "display(m2)\n",
    "dizx.symplectic.compare_matrices(m1,m2,modulus=3)"
   ]
  },
  {
   "cell_type": "code",
   "execution_count": 3,
   "id": "b9d7df58",
   "metadata": {},
   "outputs": [
    {
     "data": {
      "image/png": "[encoded data removed]",
      "text/plain": [
       "<Figure size 1290.63x200.667 with 1 Axes>"
      ]
     },
     "execution_count": 3,
     "metadata": {},
     "output_type": "execute_result"
    }
   ],
   "source": [
    "c2 = dizx.Circuit.from_qasm_file('../circuits/pauli_push1.qasm')\n",
    "c2.draw()"
   ]
  },
  {
   "cell_type": "code",
   "execution_count": 4,
   "id": "76a43d9a",
   "metadata": {},
   "outputs": [],
   "source": [
    "cs = simp.CliffordSimplifier(c2)\n",
    "# cs.simple_optimize()\n",
    "# cs.push_CZ_past_CX()\n",
    "# cs.simple_optimize()\n",
    "# cs.transform_CX_to_SWAP()\n",
    "# cs.simple_optimize()\n",
    "# cs.transform_CX_to_SWAP()\n",
    "# cs.circuit.draw()"
   ]
  },
  {
   "cell_type": "code",
   "execution_count": 5,
   "id": "06fbd069",
   "metadata": {},
   "outputs": [
    {
     "data": {
      "text/plain": [
       "True"
      ]
     },
     "execution_count": 5,
     "metadata": {},
     "output_type": "execute_result"
    }
   ],
   "source": [
    "cs.push_pauli()"
   ]
  },
  {
   "cell_type": "code",
   "execution_count": 6,
   "id": "c209d953",
   "metadata": {},
   "outputs": [
    {
     "name": "stdout",
     "output_type": "stream",
     "text": [
      "None\n",
      "        CZ(0,1)\n",
      "                HAD(1)\n",
      "                        CX^-1(1,0)\n",
      "                                CX^2(0,1)\n",
      "                                        CZ^-1(0,1)\n",
      "                                                CX^-1(1,0)\n",
      "                                                        CZ^4(1,0)\n",
      "                                                                S^4(0)\n",
      "                                                                        CZ^-1(0,1)\n",
      "                                                                                HAD^2(0)\n",
      "                                                                                Z^-8(1)\n",
      "                                                                                        S^-2(1)\n",
      "                                                                                                HAD^-1(1)\n",
      "                                                                S^-4(1)\n",
      "                                                                        CZ^-1(0,1)\n",
      "                                                                                HAD^2(0)\n",
      "                                                                                Z^-8(1)\n",
      "                                                                                        S^-2(1)\n",
      "                                                                                                HAD^-1(1)\n",
      "\n"
     ]
    }
   ],
   "source": [
    "print(cs.dags[-1])"
   ]
  },
  {
   "cell_type": "code",
   "execution_count": null,
   "id": "8548fc10",
   "metadata": {},
   "outputs": [],
   "source": [
    "cs.circuit.to_symplectic_matrix()"
   ]
  },
  {
   "cell_type": "code",
   "execution_count": null,
   "id": "55efd895",
   "metadata": {},
   "outputs": [],
   "source": [
    "c.to_symplectic_matrix()"
   ]
  },
  {
   "cell_type": "code",
   "execution_count": null,
   "id": "edea57c5",
   "metadata": {},
   "outputs": [],
   "source": [
    "cs.push_CZ_past_CX()"
   ]
  },
  {
   "cell_type": "code",
   "execution_count": null,
   "id": "c841ecae",
   "metadata": {},
   "outputs": [],
   "source": [
    "cs.push_S_past_CX()"
   ]
  },
  {
   "cell_type": "code",
   "execution_count": null,
   "id": "bb2f4e1e",
   "metadata": {},
   "outputs": [],
   "source": [
    "print(cs.dag)"
   ]
  },
  {
   "cell_type": "code",
   "execution_count": null,
   "id": "b85bfac9",
   "metadata": {},
   "outputs": [],
   "source": [
    "\"hoi\""
   ]
  },
  {
   "cell_type": "code",
   "execution_count": null,
   "id": "f518b0c2",
   "metadata": {
    "scrolled": true
   },
   "outputs": [],
   "source": [
    "cs.display_widget()"
   ]
  },
  {
   "cell_type": "code",
   "execution_count": 131,
   "id": "a90b8aab",
   "metadata": {},
   "outputs": [
    {
     "data": {
      "image/png": "[encoded data removed]",
      "text/plain": [
       "<Figure size 538.128x200.667 with 1 Axes>"
      ]
     },
     "execution_count": 131,
     "metadata": {},
     "output_type": "execute_result"
    }
   ],
   "source": [
    "c = dizx.Circuit(2,3)\n",
    "c += HAD(0)\n",
    "c += CX(1,0)\n",
    "c += HAD(0)**3\n",
    "c += CZ(1,0)**-1\n",
    "c.to_qiskit_rep().draw(\"mpl\")"
   ]
  },
  {
   "cell_type": "code",
   "execution_count": 132,
   "id": "3f620f53",
   "metadata": {},
   "outputs": [
    {
     "data": {
      "text/latex": [
       "$\\displaystyle \\left[\\begin{matrix}1 & 0 & 0 & 0\\\\0 & 1 & 0 & 0\\\\0 & 0 & 1 & 0\\\\0 & 0 & 0 & 1\\end{matrix}\\right]$"
      ],
      "text/plain": [
       "Matrix([\n",
       "[1, 0, 0, 0],\n",
       "[0, 1, 0, 0],\n",
       "[0, 0, 1, 0],\n",
       "[0, 0, 0, 1]])"
      ]
     },
     "execution_count": 132,
     "metadata": {},
     "output_type": "execute_result"
    }
   ],
   "source": [
    "c.to_symplectic_matrix()"
   ]
  },
  {
   "cell_type": "code",
   "execution_count": null,
   "id": "200340bb",
   "metadata": {},
   "outputs": [],
   "source": [
    "cs2 = simp.CliffordSimplifier(c)\n",
    "cs2.push_S_gate()"
   ]
  },
  {
   "cell_type": "code",
   "execution_count": null,
   "id": "5ead7980",
   "metadata": {},
   "outputs": [],
   "source": [
    "print(cs2.dag)\n",
    "cs2.circuit.to_qiskit_rep().draw(\"mpl\")"
   ]
  },
  {
   "cell_type": "code",
   "execution_count": null,
   "id": "a57e15ea",
   "metadata": {},
   "outputs": [],
   "source": [
    "cs.push_CZ_past_CX()"
   ]
  },
  {
   "cell_type": "code",
   "execution_count": null,
   "id": "59ba0f4c",
   "metadata": {},
   "outputs": [],
   "source": [
    "StepperWidget(cs).show()"
   ]
  },
  {
   "cell_type": "code",
   "execution_count": null,
   "id": "74e22c4a",
   "metadata": {},
   "outputs": [],
   "source": [
    "cs.push_CZ_past_CX()"
   ]
  },
  {
   "cell_type": "code",
   "execution_count": null,
   "id": "ccd6ce91",
   "metadata": {},
   "outputs": [],
   "source": [
    "for circ in cs.circuit_list:\n",
    "    print(circ)"
   ]
  },
  {
   "cell_type": "code",
   "execution_count": null,
   "id": "2c5e4a26",
   "metadata": {},
   "outputs": [],
   "source": [
    "cs.euler_decomp()"
   ]
  },
  {
   "cell_type": "code",
   "execution_count": null,
   "id": "f8c63b5a",
   "metadata": {},
   "outputs": [],
   "source": [
    "cs.euler_decomp2()"
   ]
  },
  {
   "cell_type": "code",
   "execution_count": null,
   "id": "3a153c8c",
   "metadata": {},
   "outputs": [],
   "source": [
    "cs.dag"
   ]
  }
 ],
 "metadata": {
  "kernelspec": {
   "display_name": "Python 3",
   "language": "python",
   "name": "python3"
  },
  "language_info": {
   "codemirror_mode": {
    "name": "ipython",
    "version": 3
   },
   "file_extension": ".py",
   "mimetype": "text/x-python",
   "name": "python",
   "nbconvert_exporter": "python",
   "pygments_lexer": "ipython3",
   "version": "3.11.2"
  }
 },
 "nbformat": 4,
 "nbformat_minor": 5
}
