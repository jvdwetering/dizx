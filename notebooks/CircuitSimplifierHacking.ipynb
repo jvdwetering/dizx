{
 "cells": [
  {
   "cell_type": "code",
   "execution_count": 1,
   "id": "c2f956a7",
   "metadata": {},
   "outputs": [],
   "source": [
    "%load_ext autoreload\n",
    "%autoreload 2\n",
    "import sys\n",
    "sys.path.append('..')"
   ]
  },
  {
   "cell_type": "code",
   "execution_count": 2,
   "id": "94bf354c",
   "metadata": {},
   "outputs": [],
   "source": [
    "import dizx\n",
    "from dizx import Edge\n",
    "from dizx import clifford_simplifier as simp\n",
    "Phase = dizx.CliffordPhase\n",
    "d = 3\n",
    "Z = dizx.VertexType.Z\n",
    "X = dizx.VertexType.X"
   ]
  },
  {
   "cell_type": "code",
   "execution_count": null,
   "id": "1de846c3",
   "metadata": {},
   "outputs": [],
   "source": [
    "from sympy import symbols\n",
    "a = symbols(\"a\")\n",
    "ainv = symbols(\"ainv\")\n",
    "b = symbols(\"b\")\n",
    "binv = symbols(\"binv\")\n",
    "Hadj = dizx.gates.HAD(0,adjoint=True)\n",
    "H = dizx.gates.HAD(0)\n",
    "S = dizx.gates.S(0)\n",
    "\n",
    "lhs = dizx.Circuit(qudit_amount=1, dim=3)\n",
    "lhs += H**-1 + S**-a + H**-1 + S**-ainv + H**-1 + S**(-a*(b+1)) + H\n"
   ]
  },
  {
   "cell_type": "code",
   "execution_count": 3,
   "id": "be44dede",
   "metadata": {},
   "outputs": [],
   "source": [
    "#R28 from supplement\n",
    "from dizx.circuit.gates import CZ, CX, HAD, S, Z, X\n",
    "\n",
    "lhs = dizx.Circuit(qudit_amount=2, dim=3)\n",
    "lhs += CZ(0,1)\n",
    "lhs += HAD(0)**2 + HAD(1)\n",
    "lhs += CZ(0,1)\n",
    "lhs += CX(1,0)\n",
    "rhs = dizx.Circuit(qudit_amount=2, dim=3)\n",
    "rhs += HAD(1)\n",
    "rhs += CZ(0,1) + CX(1,0)\n",
    "rhs += S(1) + HAD(1)**2 + S(1)\n",
    "rhs += CX(0,1)**2\n",
    "rhs += S(1) + Z(1)\n"
   ]
  },
  {
   "cell_type": "code",
   "execution_count": 4,
   "id": "02f812e5",
   "metadata": {},
   "outputs": [
    {
     "data": {
      "text/plain": [
       "Circuit[3](2 qudits, 0 dits, [CZ(0,1), HAD^2(0), HAD(1), CZ(0,1), CX(1,0), Z^-1(1), S^-1(1), CX^-2(0,1), S^-1(1), HAD^-2(1), S^-1(1), CX^-1(1,0), CZ^-1(0,1), HAD^-1(1)] gates)"
      ]
     },
     "execution_count": 4,
     "metadata": {},
     "output_type": "execute_result"
    }
   ],
   "source": [
    "c = lhs + rhs.adjoint()\n",
    "c"
   ]
  },
  {
   "cell_type": "code",
   "execution_count": 5,
   "id": "a3574ce5",
   "metadata": {},
   "outputs": [
    {
     "data": {
      "image/png": "[encoded data removed]",
      "text/plain": [
       "<Figure size 1457.85x200.667 with 1 Axes>"
      ]
     },
     "execution_count": 5,
     "metadata": {},
     "output_type": "execute_result"
    }
   ],
   "source": [
    "c.to_qiskit_rep().draw(\"mpl\")"
   ]
  },
  {
   "cell_type": "code",
   "execution_count": 6,
   "id": "aca9f96c",
   "metadata": {
    "scrolled": true
   },
   "outputs": [],
   "source": [
    "cs = simp.CliffordSimplifier(c)\n",
    "# cs.verbose = True\n",
    "# print(cs.dag)"
   ]
  },
  {
   "cell_type": "code",
   "execution_count": 7,
   "id": "df6cb749",
   "metadata": {},
   "outputs": [
    {
     "name": "stdout",
     "output_type": "stream",
     "text": [
      "Pushing Z^-1(1) through CX^-2(0,1)\n",
      "Updated the dag, it is now:  CX^-2(0,1)\n",
      "        S^-1(1)\n",
      "                HAD^-2(1)\n",
      "                        S^-1(1)\n",
      "                                CX^-1(1,0)\n",
      "                                        CZ^-1(0,1)\n",
      "                                                HAD^-1(1)\n",
      "\n",
      "Pushing Z*(1) through CX^-1(1,0)\n",
      "Updated the dag, it is now:  CX^-1(1,0)\n",
      "        CZ^-1(0,1)\n",
      "                HAD^-1(1)\n",
      "\n",
      "Pushing Z*(1) through CZ^-1(0,1)\n",
      "Updated the dag, it is now:  CZ^-1(0,1)\n",
      "        HAD^-1(1)\n",
      "\n",
      "Pushing Z^-2(0) through CX^-1(1,0)\n",
      "Updated the dag, it is now:  CX^-1(1,0)\n",
      "        CZ^-1(0,1)\n",
      "                HAD^3(1)\n",
      "                        X^-1(1)\n",
      "\n",
      "Pushing Z^-2(0) through CZ^-1(0,1)\n",
      "Updated the dag, it is now:  CZ^-1(0,1)\n",
      "        HAD^3(1)\n",
      "                X^-1(1)\n",
      "\n",
      "Pushing Z^-2(1) through CZ^-1(0,1)\n",
      "Updated the dag, it is now:  CZ^-1(0,1)\n",
      "        HAD^3(1)\n",
      "                X^-1(1)\n",
      "        Z^-2(0)\n",
      "\n",
      "Pushing Z(1) through CX^-1(1,0)\n",
      "Updated the dag, it is now:  CX^-1(1,0)\n",
      "        CZ^-1(0,1)\n",
      "                Z^-2(0)\n",
      "                HAD^3(1)\n",
      "                        X(1)\n",
      "\n",
      "Pushing Z(1) through CZ^-1(0,1)\n",
      "Updated the dag, it is now:  CZ^-1(0,1)\n",
      "        Z^-2(0)\n",
      "        HAD^3(1)\n",
      "                X(1)\n",
      "\n"
     ]
    },
    {
     "data": {
      "text/plain": [
       "Circuit[3](2 qudits, 0 dits, [CZ(0,1), HAD(1), CZ^-1(0,1), CX^-1(1,0), S^-1(1), CX^2(0,1), CX^-1(1,0), CZ^-1(0,1), HAD^2(0), Z^-2(0), S^-2(1), HAD^5(1)] gates)"
      ]
     },
     "execution_count": 7,
     "metadata": {},
     "output_type": "execute_result"
    }
   ],
   "source": [
    "cs.simple_optimize()\n",
    "cs.circuit"
   ]
  },
  {
   "cell_type": "code",
   "execution_count": null,
   "id": "edea57c5",
   "metadata": {},
   "outputs": [],
   "source": [
    "cs = simp.CliffordSimplifier(new_c)\n",
    "# cs.verbose = True\n",
    "cs.simple_optimize()\n",
    "print(cs.dag)"
   ]
  },
  {
   "cell_type": "code",
   "execution_count": null,
   "id": "b85bfac9",
   "metadata": {},
   "outputs": [],
   "source": [
    "\"hoi\""
   ]
  },
  {
   "cell_type": "code",
   "execution_count": 8,
   "id": "f518b0c2",
   "metadata": {},
   "outputs": [
    {
     "data": {
      "application/vnd.jupyter.widget-view+json": {
       "model_id": "67e1b55fafbd49aa8b70f4b13d95358e",
       "version_major": 2,
       "version_minor": 0
      },
      "text/plain": [
       "VBox(children=(HBox(children=(Button(description='Previous', style=ButtonStyle()), Button(description='Next', …"
      ]
     },
     "metadata": {},
     "output_type": "display_data"
    }
   ],
   "source": [
    "cs.display_widget()"
   ]
  },
  {
   "cell_type": "code",
   "execution_count": null,
   "id": "74ac431d",
   "metadata": {},
   "outputs": [],
   "source": [
    "from qiskit import QuantumCircuit\n",
    "from qiskit.circuit.library import HGate, CXGate, CZGate, SWAPGate\n",
    "\n",
    "qc = QuantumCircuit(2)\n",
    "\n",
    "# Make labeled gates\n",
    "h_gate = HGate(label=\"H^2\")\n",
    "cx_gate = CXGate(label=\"^{-1}\")\n",
    "cz_gate = CZGate(label=\"{}^2\")\n",
    "\n",
    "# Append them\n",
    "qc.append(h_gate, [0])\n",
    "qc.append(cx_gate, [0, 1])\n",
    "qc.append(cz_gate,[1,0])\n",
    "\n",
    "qc.draw(\"mpl\")"
   ]
  },
  {
   "cell_type": "code",
   "execution_count": null,
   "id": "a57e15ea",
   "metadata": {},
   "outputs": [],
   "source": [
    "cs.push_CZ_past_CX()"
   ]
  },
  {
   "cell_type": "code",
   "execution_count": null,
   "id": "59ba0f4c",
   "metadata": {},
   "outputs": [],
   "source": [
    "StepperWidget(cs).show()"
   ]
  },
  {
   "cell_type": "code",
   "execution_count": null,
   "id": "74e22c4a",
   "metadata": {},
   "outputs": [],
   "source": [
    "cs.push_CZ_past_CX()"
   ]
  },
  {
   "cell_type": "code",
   "execution_count": null,
   "id": "ccd6ce91",
   "metadata": {},
   "outputs": [],
   "source": [
    "for circ in cs.circuit_list:\n",
    "    print(circ)"
   ]
  },
  {
   "cell_type": "code",
   "execution_count": null,
   "id": "2c5e4a26",
   "metadata": {},
   "outputs": [],
   "source": [
    "cs.euler_decomp()"
   ]
  },
  {
   "cell_type": "code",
   "execution_count": null,
   "id": "f8c63b5a",
   "metadata": {},
   "outputs": [],
   "source": [
    "cs.euler_decomp2()"
   ]
  },
  {
   "cell_type": "code",
   "execution_count": null,
   "id": "3a153c8c",
   "metadata": {},
   "outputs": [],
   "source": [
    "cs.dag"
   ]
  }
 ],
 "metadata": {
  "kernelspec": {
   "display_name": "Python 3 (ipykernel)",
   "language": "python",
   "name": "python3"
  },
  "language_info": {
   "codemirror_mode": {
    "name": "ipython",
    "version": 3
   },
   "file_extension": ".py",
   "mimetype": "text/x-python",
   "name": "python",
   "nbconvert_exporter": "python",
   "pygments_lexer": "ipython3",
   "version": "3.11.2"
  }
 },
 "nbformat": 4,
 "nbformat_minor": 5
}
