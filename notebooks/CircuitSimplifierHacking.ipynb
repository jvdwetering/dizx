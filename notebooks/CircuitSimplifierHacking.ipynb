{
 "cells": [
  {
   "cell_type": "code",
   "execution_count": 1,
   "id": "c2f956a7",
   "metadata": {},
   "outputs": [],
   "source": [
    "%load_ext autoreload\n",
    "%autoreload 2\n",
    "import sys\n",
    "sys.path.append('..')"
   ]
  },
  {
   "cell_type": "code",
   "execution_count": 2,
   "id": "94bf354c",
   "metadata": {},
   "outputs": [],
   "source": [
    "import dizx\n",
    "from dizx import Edge\n",
    "from dizx import clifford_simplifier as simp\n",
    "Phase = dizx.CliffordPhase\n",
    "d = 3\n",
    "Z = dizx.VertexType.Z\n",
    "X = dizx.VertexType.X"
   ]
  },
  {
   "cell_type": "code",
   "execution_count": null,
   "id": "aab9ac17",
   "metadata": {},
   "outputs": [],
   "source": [
    "c = dizx.Circuit(qudit_amount=2,dim=3)\n",
    "c.add_gates(\"S\",0)\n",
    "# c.add_gate(\"CZ\",0,1)\n",
    "c.add_gate(\"SWAP\",0,1)\n",
    "c.add_gate(\"H\",0)\n",
    "c.add_gate(\"S\",1)\n",
    "c.add_gate(\"CZ\",0,1)\n",
    "# c.add_gate(\"S\",1)\n",
    "# c.add_gates(\"S S H\",1)\n",
    "# c.add_gates(\"H S\", 0)"
   ]
  },
  {
   "cell_type": "code",
   "execution_count": null,
   "id": "290ff159",
   "metadata": {},
   "outputs": [],
   "source": [
    "H1_2 = dizx.symplectic.H(0,2,1)\n",
    "CX = dizx.symplectic.CX\n",
    "CX(0,1,2) * CX(1,0,2,-1) * CX(0,1,2)\n",
    "# dizx.symplectic.CXmat(1)"
   ]
  },
  {
   "cell_type": "code",
   "execution_count": null,
   "id": "5acb58ed",
   "metadata": {},
   "outputs": [],
   "source": [
    "cs = simp.CliffordSimplifier(c)\n",
    "print(cs.dag)"
   ]
  },
  {
   "cell_type": "code",
   "execution_count": null,
   "id": "6a42baa0",
   "metadata": {},
   "outputs": [],
   "source": [
    "cs.push_SWAP()"
   ]
  },
  {
   "cell_type": "code",
   "execution_count": null,
   "id": "f5bb8432",
   "metadata": {},
   "outputs": [],
   "source": [
    "print(cs.dag)"
   ]
  },
  {
   "cell_type": "code",
   "execution_count": null,
   "id": "cf110438",
   "metadata": {},
   "outputs": [],
   "source": [
    "cs.circuit"
   ]
  },
  {
   "cell_type": "code",
   "execution_count": null,
   "id": "80fedde7",
   "metadata": {},
   "outputs": [],
   "source": [
    "cs.combine_gates()"
   ]
  },
  {
   "cell_type": "code",
   "execution_count": null,
   "id": "e8f6b5ec",
   "metadata": {},
   "outputs": [],
   "source": [
    "cs.circuit"
   ]
  },
  {
   "cell_type": "code",
   "execution_count": null,
   "id": "04b79e76",
   "metadata": {},
   "outputs": [],
   "source": [
    "cs.dag.children[0].children"
   ]
  },
  {
   "cell_type": "code",
   "execution_count": null,
   "id": "db41936b",
   "metadata": {},
   "outputs": [],
   "source": [
    "cs.remove_identity_gate()"
   ]
  },
  {
   "cell_type": "code",
   "execution_count": null,
   "id": "1a9d0c3c",
   "metadata": {},
   "outputs": [],
   "source": [
    "cs.push_pauli()"
   ]
  },
  {
   "cell_type": "code",
   "execution_count": null,
   "id": "2ec95dda",
   "metadata": {},
   "outputs": [],
   "source": [
    "cs.push_double_hadamard()"
   ]
  },
  {
   "cell_type": "code",
   "execution_count": null,
   "id": "252efc3a",
   "metadata": {},
   "outputs": [],
   "source": [
    "cs.circuit"
   ]
  },
  {
   "cell_type": "code",
   "execution_count": null,
   "id": "2542998d",
   "metadata": {},
   "outputs": [],
   "source": [
    "cs.dag.children[0].children"
   ]
  },
  {
   "cell_type": "code",
   "execution_count": null,
   "id": "be44dede",
   "metadata": {},
   "outputs": [],
   "source": [
    "lhs = dizx.Circuit(qudit_amount=2, dim=3)\n",
    "lhs.add_gate(\"CX\",1,0)\n",
    "lhs.add_gate(\"CX\",1,0)\n",
    "lhs.add_gate(\"H\",1)\n",
    "lhs.add_gate(\"H\",1)\n",
    "lhs.add_gate(\"CX\",1,0)\n",
    "rhs = dizx.Circuit(qudit_amount=2, dim=3)\n",
    "rhs.add_gate(\"CZ\",1,0)\n",
    "rhs.add_gate(\"CZ\",1,0)\n",
    "rhs.add_gate(\"CX\",1,0)\n",
    "rhs.add_gate(\"CZ\",1,0)\n",
    "rhs.add_gates(\"S H H S\",1)\n"
   ]
  },
  {
   "cell_type": "code",
   "execution_count": 14,
   "id": "1de846c3",
   "metadata": {},
   "outputs": [],
   "source": [
    "from sympy import symbols\n",
    "a = symbols(\"a\")\n",
    "ainv = symbols(\"ainv\")\n",
    "b = symbols(\"b\")\n",
    "binv = symbols(\"binv\")\n",
    "Hadj = dizx.gates.HAD(0,adjoint=True)\n",
    "H = dizx.gates.HAD(0)\n",
    "S = dizx.gates.S(0)\n",
    "\n",
    "lhs = dizx.Circuit(qudit_amount=1, dim=3)\n",
    "lhs += H**-1 + S**-a + H**-1 + S**-ainv + H**-1 + S**(-a*(b+1)) + H\n"
   ]
  },
  {
   "cell_type": "code",
   "execution_count": 15,
   "id": "6942ccc7",
   "metadata": {},
   "outputs": [
    {
     "data": {
      "text/latex": [
       "$\\displaystyle \\left[\\begin{matrix}b & - a\\\\ainv & 0\\end{matrix}\\right]$"
      ],
      "text/plain": [
       "Matrix([\n",
       "[   b, -a],\n",
       "[ainv,  0]])"
      ]
     },
     "execution_count": 15,
     "metadata": {},
     "output_type": "execute_result"
    }
   ],
   "source": [
    "m = dizx.symplectic.circuit_to_matrix(lhs)\n",
    "m = dizx.symplectic.reduce_matrix(m, [(a,ainv),(b,binv)])\n",
    "m"
   ]
  },
  {
   "cell_type": "code",
   "execution_count": null,
   "id": "03312dc9",
   "metadata": {},
   "outputs": [],
   "source": [
    "m = dizx.symplectic.circuit_to_matrix(rhs)\n",
    "m = dizx.symplectic.modulo_matrix(m,3)\n",
    "m"
   ]
  },
  {
   "cell_type": "code",
   "execution_count": null,
   "id": "02f812e5",
   "metadata": {},
   "outputs": [],
   "source": [
    "c = lhs + rhs.adjoint()\n",
    "c"
   ]
  },
  {
   "cell_type": "code",
   "execution_count": null,
   "id": "aca9f96c",
   "metadata": {},
   "outputs": [],
   "source": [
    "cs = simp.CliffordSimplifier(c)\n",
    "#print(cs.dag)"
   ]
  },
  {
   "cell_type": "code",
   "execution_count": null,
   "id": "c8e5d711",
   "metadata": {},
   "outputs": [],
   "source": [
    "# cs.combine_gates()\n",
    "print(cs.dag)"
   ]
  },
  {
   "cell_type": "code",
   "execution_count": null,
   "id": "df6cb749",
   "metadata": {},
   "outputs": [],
   "source": [
    "cs.simple_optimize()\n",
    "cs.circuit"
   ]
  },
  {
   "cell_type": "code",
   "execution_count": null,
   "id": "713c854f",
   "metadata": {},
   "outputs": [],
   "source": [
    "print(cs.dag)"
   ]
  },
  {
   "cell_type": "code",
   "execution_count": null,
   "id": "74e22c4a",
   "metadata": {},
   "outputs": [],
   "source": [
    "cs.push_CZ_past_CX()"
   ]
  },
  {
   "cell_type": "code",
   "execution_count": null,
   "id": "ccd6ce91",
   "metadata": {},
   "outputs": [],
   "source": [
    "for circ in cs.circuit_list:\n",
    "    print(circ)"
   ]
  },
  {
   "cell_type": "code",
   "execution_count": null,
   "id": "2c5e4a26",
   "metadata": {},
   "outputs": [],
   "source": [
    "cs.euler_decomp()"
   ]
  },
  {
   "cell_type": "code",
   "execution_count": null,
   "id": "f8c63b5a",
   "metadata": {},
   "outputs": [],
   "source": [
    "cs.euler_decomp2()"
   ]
  },
  {
   "cell_type": "code",
   "execution_count": null,
   "id": "3a153c8c",
   "metadata": {},
   "outputs": [],
   "source": [
    "cs.dag"
   ]
  },
  {
   "cell_type": "code",
   "execution_count": null,
   "id": "27744377",
   "metadata": {},
   "outputs": [],
   "source": [
    "cs.circuit"
   ]
  },
  {
   "cell_type": "code",
   "execution_count": null,
   "id": "f4712b96",
   "metadata": {},
   "outputs": [],
   "source": [
    "cs.simple_optimize()\n",
    "cs.circuit"
   ]
  },
  {
   "cell_type": "code",
   "execution_count": null,
   "id": "df193378",
   "metadata": {},
   "outputs": [],
   "source": [
    "for circ in cs.circuit_list:\n",
    "    print(circ)"
   ]
  },
  {
   "cell_type": "code",
   "execution_count": null,
   "id": "4158236a",
   "metadata": {},
   "outputs": [],
   "source": [
    "i = 0\n",
    "dag = cs.dag.children[0]\n",
    "while i<10:\n",
    "    if len(dag.children) == 0: break\n",
    "    print(\"Num children: \", len(dag.children))\n",
    "    print(\"First child: \", dag.children[0].node)\n",
    "    dag = dag.children[0]\n",
    "    i += 1"
   ]
  },
  {
   "cell_type": "code",
   "execution_count": null,
   "id": "54d7e552",
   "metadata": {},
   "outputs": [],
   "source": [
    "cs.push_pauli()\n",
    "cs.circuit"
   ]
  },
  {
   "cell_type": "code",
   "execution_count": null,
   "id": "8d3b2450",
   "metadata": {},
   "outputs": [],
   "source": [
    "cs.combine_gates()\n",
    "cs.circuit"
   ]
  },
  {
   "cell_type": "code",
   "execution_count": null,
   "id": "87285296",
   "metadata": {},
   "outputs": [],
   "source": [
    "cs.remove_identity_gate()\n",
    "cs.circuit"
   ]
  },
  {
   "cell_type": "code",
   "execution_count": null,
   "id": "b3e3f87e",
   "metadata": {},
   "outputs": [],
   "source": [
    "cs.circuit"
   ]
  },
  {
   "cell_type": "code",
   "execution_count": null,
   "id": "9a3f9aa7",
   "metadata": {},
   "outputs": [],
   "source": [
    "cs.push_pauli()"
   ]
  },
  {
   "cell_type": "code",
   "execution_count": null,
   "id": "bcf6dd99",
   "metadata": {},
   "outputs": [],
   "source": [
    "cs.circuit"
   ]
  },
  {
   "cell_type": "code",
   "execution_count": null,
   "id": "52a9151b",
   "metadata": {},
   "outputs": [],
   "source": [
    "cs.push_pauli()"
   ]
  },
  {
   "cell_type": "code",
   "execution_count": null,
   "id": "5e02a3be",
   "metadata": {},
   "outputs": [],
   "source": [
    "cs.circuit"
   ]
  },
  {
   "cell_type": "code",
   "execution_count": null,
   "id": "9c187c26",
   "metadata": {},
   "outputs": [],
   "source": [
    "print(cs.push_pauli())\n",
    "cs.circuit"
   ]
  },
  {
   "cell_type": "code",
   "execution_count": null,
   "id": "b83b2248",
   "metadata": {},
   "outputs": [],
   "source": [
    "print(cs.push_pauli())\n",
    "cs.circuit"
   ]
  },
  {
   "cell_type": "code",
   "execution_count": null,
   "id": "87196f32",
   "metadata": {},
   "outputs": [],
   "source": [
    "print(cs.push_pauli())\n",
    "cs.circuit"
   ]
  },
  {
   "cell_type": "code",
   "execution_count": null,
   "id": "168d85b6",
   "metadata": {},
   "outputs": [],
   "source": [
    "print(cs.combine_gates())\n",
    "cs.circuit"
   ]
  },
  {
   "cell_type": "code",
   "execution_count": null,
   "id": "798615b3",
   "metadata": {},
   "outputs": [],
   "source": [
    "print(cs.remove_identity_gate())\n",
    "cs.circuit"
   ]
  }
 ],
 "metadata": {
  "kernelspec": {
   "display_name": "Python 3 (ipykernel)",
   "language": "python",
   "name": "python3"
  },
  "language_info": {
   "codemirror_mode": {
    "name": "ipython",
    "version": 3
   },
   "file_extension": ".py",
   "mimetype": "text/x-python",
   "name": "python",
   "nbconvert_exporter": "python",
   "pygments_lexer": "ipython3",
   "version": "3.11.2"
  }
 },
 "nbformat": 4,
 "nbformat_minor": 5
}
