{
 "cells": [
  {
   "cell_type": "code",
   "execution_count": null,
   "id": "c2f956a7",
   "metadata": {},
   "outputs": [],
   "source": [
    "%load_ext autoreload\n",
    "%autoreload 2\n",
    "import sys\n",
    "sys.path.append('..')"
   ]
  },
  {
   "cell_type": "code",
   "execution_count": null,
   "id": "94bf354c",
   "metadata": {},
   "outputs": [],
   "source": [
    "import dizx\n",
    "from dizx import Edge\n",
    "from dizx import clifford_simplifier as simp\n",
    "Phase = dizx.CliffordPhase\n",
    "d = 3\n",
    "Z = dizx.VertexType.Z\n",
    "X = dizx.VertexType.X"
   ]
  },
  {
   "cell_type": "code",
   "execution_count": null,
   "id": "1de846c3",
   "metadata": {},
   "outputs": [],
   "source": [
    "from sympy import symbols\n",
    "a = symbols(\"a\")\n",
    "ainv = symbols(\"ainv\")\n",
    "b = symbols(\"b\")\n",
    "binv = symbols(\"binv\")\n",
    "Hadj = dizx.gates.HAD(0,adjoint=True)\n",
    "H = dizx.gates.HAD(0)\n",
    "S = dizx.gates.S(0)\n",
    "\n",
    "lhs = dizx.Circuit(qudit_amount=1, dim=3)\n",
    "lhs += H**-1 + S**-a + H**-1 + S**-ainv + H**-1 + S**(-a*(b+1)) + H\n"
   ]
  },
  {
   "cell_type": "code",
   "execution_count": null,
   "id": "be44dede",
   "metadata": {},
   "outputs": [],
   "source": [
    "lhs = dizx.Circuit(qudit_amount=2, dim=3)\n",
    "lhs.add_gate(\"CX\",1,0)\n",
    "lhs.add_gate(\"CX\",1,0)\n",
    "lhs.add_gate(\"H\",1)\n",
    "lhs.add_gate(\"H\",1)\n",
    "lhs.add_gate(\"CX\",1,0)\n",
    "rhs = dizx.Circuit(qudit_amount=2, dim=3)\n",
    "rhs.add_gate(\"CZ\",1,0)\n",
    "rhs.add_gate(\"CZ\",1,0)\n",
    "rhs.add_gate(\"CX\",1,0)\n",
    "rhs.add_gate(\"CZ\",1,0)\n",
    "rhs.add_gates(\"S S H H S S\",1)\n"
   ]
  },
  {
   "cell_type": "code",
   "execution_count": null,
   "id": "02f812e5",
   "metadata": {},
   "outputs": [],
   "source": [
    "c = lhs + rhs.adjoint()\n",
    "c"
   ]
  },
  {
   "cell_type": "code",
   "execution_count": null,
   "id": "aca9f96c",
   "metadata": {
    "scrolled": true
   },
   "outputs": [],
   "source": [
    "cs = simp.CliffordSimplifier(c)\n",
    "# print(cs.dag)"
   ]
  },
  {
   "cell_type": "code",
   "execution_count": null,
   "id": "df6cb749",
   "metadata": {},
   "outputs": [],
   "source": [
    "cs.simple_optimize()\n",
    "cs.circuit"
   ]
  },
  {
   "cell_type": "code",
   "execution_count": null,
   "id": "2a3fb39b",
   "metadata": {},
   "outputs": [],
   "source": [
    "cs.display_widget()"
   ]
  },
  {
   "cell_type": "code",
   "execution_count": null,
   "id": "71724439",
   "metadata": {},
   "outputs": [],
   "source": [
    "cs.push_CZ_past_CX()"
   ]
  },
  {
   "cell_type": "code",
   "execution_count": null,
   "id": "4c41d73b",
   "metadata": {},
   "outputs": [],
   "source": [
    "StepperWidget(cs).show()"
   ]
  },
  {
   "cell_type": "code",
   "execution_count": null,
   "id": "74e22c4a",
   "metadata": {},
   "outputs": [],
   "source": [
    "cs.push_CZ_past_CX()"
   ]
  },
  {
   "cell_type": "code",
   "execution_count": null,
   "id": "ccd6ce91",
   "metadata": {},
   "outputs": [],
   "source": [
    "for circ in cs.circuit_list:\n",
    "    print(circ)"
   ]
  },
  {
   "cell_type": "code",
   "execution_count": null,
   "id": "2c5e4a26",
   "metadata": {},
   "outputs": [],
   "source": [
    "cs.euler_decomp()"
   ]
  },
  {
   "cell_type": "code",
   "execution_count": null,
   "id": "f8c63b5a",
   "metadata": {},
   "outputs": [],
   "source": [
    "cs.euler_decomp2()"
   ]
  },
  {
   "cell_type": "code",
   "execution_count": null,
   "id": "3a153c8c",
   "metadata": {},
   "outputs": [],
   "source": [
    "cs.dag"
   ]
  }
 ],
 "metadata": {
  "kernelspec": {
   "display_name": "Python 3 (ipykernel)",
   "language": "python",
   "name": "python3"
  },
  "language_info": {
   "codemirror_mode": {
    "name": "ipython",
    "version": 3
   },
   "file_extension": ".py",
   "mimetype": "text/x-python",
   "name": "python",
   "nbconvert_exporter": "python",
   "pygments_lexer": "ipython3",
   "version": "3.11.2"
  }
 },
 "nbformat": 4,
 "nbformat_minor": 5
}
