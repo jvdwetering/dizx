{
 "cells": [
  {
   "cell_type": "code",
   "execution_count": 1,
   "id": "c2f956a7",
   "metadata": {},
   "outputs": [],
   "source": [
    "%load_ext autoreload\n",
    "%autoreload 2\n",
    "import sys\n",
    "sys.path.append('..')"
   ]
  },
  {
   "cell_type": "code",
   "execution_count": 2,
   "id": "94bf354c",
   "metadata": {},
   "outputs": [],
   "source": [
    "import dizx\n",
    "from dizx import Edge\n",
    "from dizx import clifford_simplifier as simp\n",
    "Phase = dizx.CliffordPhase\n",
    "d = 3\n",
    "Z = dizx.VertexType.Z\n",
    "X = dizx.VertexType.X"
   ]
  },
  {
   "cell_type": "code",
   "execution_count": null,
   "id": "aab9ac17",
   "metadata": {},
   "outputs": [],
   "source": [
    "c = dizx.Circuit(qudit_amount=2,dim=3)\n",
    "c.add_gates(\"H H S\",0)\n",
    "# c.add_gate(\"CZ\",0,1)\n",
    "# c.add_gates(\"S S H\",1)\n",
    "# c.add_gates(\"H S\", 0)"
   ]
  },
  {
   "cell_type": "code",
   "execution_count": null,
   "id": "24caac8d",
   "metadata": {},
   "outputs": [],
   "source": [
    "print(c)"
   ]
  },
  {
   "cell_type": "code",
   "execution_count": 20,
   "id": "29c7c492",
   "metadata": {},
   "outputs": [
    {
     "name": "stdout",
     "output_type": "stream",
     "text": [
      "Matrix over GF(p)[a]:\n",
      "Matrix([[1, a], [0, 1]])\n",
      "Matrix evaluated at a=3 (in GF(7)):\n",
      "Matrix([[1, 3], [0, 1]])\n"
     ]
    }
   ],
   "source": [
    "from sympy import symbols\n",
    "from sympy.polys.domains import GF, PolynomialRing\n",
    "from sympy.polys.matrices import DomainMatrix\n",
    "\n",
    "p = 7\n",
    "F = GF(p)\n",
    "a = symbols(\"a\")\n",
    "\n",
    "# Polynomial ring GF(p)[a]\n",
    "R = PolynomialRing(F, [a])\n",
    "\n",
    "# Build a matrix with entries in GF(p)[a]\n",
    "A = DomainMatrix([[R.convert(1), R.convert(a)],\n",
    "                  [R.convert(0), R.convert(1)]],\n",
    "                 (2, 2), R)\n",
    "\n",
    "print(\"Matrix over GF(p)[a]:\")\n",
    "print(A.to_Matrix())\n",
    "\n",
    "aval = F(3)  # element of GF(7)\n",
    "\n",
    "# Substitute 'a=3' in each entry\n",
    "evaluated_entries = [[entry.evaluate(0,aval) for entry in row]\n",
    "                     for row in A.to_list()]\n",
    "\n",
    "# Build a new matrix over GF(p)\n",
    "A_eval = DomainMatrix(evaluated_entries, A.shape, F)\n",
    "\n",
    "print(\"Matrix evaluated at a=3 (in GF(7)):\")\n",
    "print(A_eval.to_Matrix())"
   ]
  },
  {
   "cell_type": "code",
   "execution_count": 12,
   "id": "c025a564",
   "metadata": {},
   "outputs": [],
   "source": [
    "e = R.convert(1) + R.convert(a) + R.convert(a**2)"
   ]
  },
  {
   "cell_type": "code",
   "execution_count": 18,
   "id": "83f65bb7",
   "metadata": {},
   "outputs": [
    {
     "data": {
      "text/plain": [
       "SymmetricModularIntegerMod7(0)"
      ]
     },
     "execution_count": 18,
     "metadata": {},
     "output_type": "execute_result"
    }
   ],
   "source": [
    "e.evaluate(0,2)"
   ]
  },
  {
   "cell_type": "code",
   "execution_count": null,
   "id": "5acb58ed",
   "metadata": {},
   "outputs": [],
   "source": [
    "cs = simp.CliffordSimplifier(c)"
   ]
  },
  {
   "cell_type": "code",
   "execution_count": null,
   "id": "bc32e277",
   "metadata": {},
   "outputs": [],
   "source": [
    "cs.dag.children[0].children[0].children"
   ]
  },
  {
   "cell_type": "code",
   "execution_count": null,
   "id": "80fedde7",
   "metadata": {},
   "outputs": [],
   "source": [
    "cs.combine_gates()"
   ]
  },
  {
   "cell_type": "code",
   "execution_count": null,
   "id": "e8f6b5ec",
   "metadata": {},
   "outputs": [],
   "source": [
    "cs.circuit"
   ]
  },
  {
   "cell_type": "code",
   "execution_count": null,
   "id": "04b79e76",
   "metadata": {},
   "outputs": [],
   "source": [
    "cs.dag.children[0].children"
   ]
  },
  {
   "cell_type": "code",
   "execution_count": null,
   "id": "db41936b",
   "metadata": {},
   "outputs": [],
   "source": [
    "cs.remove_identity_gate()"
   ]
  },
  {
   "cell_type": "code",
   "execution_count": null,
   "id": "1a9d0c3c",
   "metadata": {},
   "outputs": [],
   "source": [
    "cs.push_pauli()"
   ]
  },
  {
   "cell_type": "code",
   "execution_count": null,
   "id": "7400080f",
   "metadata": {},
   "outputs": [],
   "source": [
    "cs.dag.ch"
   ]
  },
  {
   "cell_type": "code",
   "execution_count": null,
   "id": "2ec95dda",
   "metadata": {},
   "outputs": [],
   "source": [
    "cs.push_double_hadamard()"
   ]
  },
  {
   "cell_type": "code",
   "execution_count": null,
   "id": "252efc3a",
   "metadata": {},
   "outputs": [],
   "source": [
    "cs.circuit"
   ]
  },
  {
   "cell_type": "code",
   "execution_count": null,
   "id": "2542998d",
   "metadata": {},
   "outputs": [],
   "source": [
    "cs.dag.children[0].children"
   ]
  },
  {
   "cell_type": "code",
   "execution_count": 102,
   "id": "be44dede",
   "metadata": {},
   "outputs": [],
   "source": [
    "lhs = dizx.Circuit(qudit_amount=1, dim=3)\n",
    "lhs.add_gates(\"S X H S H H\", 0)\n",
    "rhs = dizx.Circuit(qudit_amount=1, dim=3)\n",
    "rhs.add_gates(\"H S S H\", 0)\n"
   ]
  },
  {
   "cell_type": "code",
   "execution_count": 103,
   "id": "02f812e5",
   "metadata": {},
   "outputs": [
    {
     "data": {
      "text/plain": [
       "Circuit[3](1 qudits, 0 dits, [S(0), X(0), HAD(0), S(0), HAD(0), HAD(0), HAD^-1(0), S^-1(0), S^-1(0), HAD^-1(0)] gates)"
      ]
     },
     "execution_count": 103,
     "metadata": {},
     "output_type": "execute_result"
    }
   ],
   "source": [
    "c = lhs + rhs.adjoint()\n",
    "c"
   ]
  },
  {
   "cell_type": "code",
   "execution_count": 104,
   "id": "aca9f96c",
   "metadata": {},
   "outputs": [],
   "source": [
    "cs = simp.CliffordSimplifier(c)"
   ]
  },
  {
   "cell_type": "code",
   "execution_count": 107,
   "id": "df6cb749",
   "metadata": {},
   "outputs": [
    {
     "data": {
      "text/plain": [
       "Circuit[3](1 qudits, 0 dits, [] gates)"
      ]
     },
     "execution_count": 107,
     "metadata": {},
     "output_type": "execute_result"
    }
   ],
   "source": [
    "cs.simple_optimize()\n",
    "cs.circuit"
   ]
  },
  {
   "cell_type": "code",
   "execution_count": 50,
   "id": "ccd6ce91",
   "metadata": {},
   "outputs": [
    {
     "name": "stdout",
     "output_type": "stream",
     "text": [
      "Circuit[3](1 qudits, 0 dits, [HAD(0), S^2(0), HAD(0), S^-1(0), X^-1(0), HAD^-1(0), S^-1(0), HAD^-2(0)] gates)\n",
      "Circuit[3](1 qudits, 0 dits, [HAD(0), S^2(0), HAD(0), S^-1(0), HAD^3(0), Z^-1(0), S^-1(0), HAD^-2(0)] gates)\n",
      "Circuit[3](1 qudits, 0 dits, [HAD(0), S^2(0), HAD(0), S^-1(0), HAD^3(0), S^-1(0), Z^-1(0), HAD^-2(0)] gates)\n",
      "Circuit[3](1 qudits, 0 dits, [HAD(0), S^2(0), HAD(0), S^-1(0), HAD^3(0), S^-1(0), HAD^2(0), Z(0)] gates)\n"
     ]
    }
   ],
   "source": [
    "for circ in cs.circuit_list:\n",
    "    print(circ)"
   ]
  },
  {
   "cell_type": "code",
   "execution_count": 106,
   "id": "2c5e4a26",
   "metadata": {},
   "outputs": [
    {
     "data": {
      "text/plain": [
       "True"
      ]
     },
     "execution_count": 106,
     "metadata": {},
     "output_type": "execute_result"
    }
   ],
   "source": [
    "cs.euler_decomp()"
   ]
  },
  {
   "cell_type": "code",
   "execution_count": 96,
   "id": "f8c63b5a",
   "metadata": {},
   "outputs": [
    {
     "name": "stdout",
     "output_type": "stream",
     "text": [
      "We have a potential match with S^2(0) followed by HAD(0)\n",
      "We have a potential match with S^2(0) followed by HAD(0)\n"
     ]
    },
    {
     "data": {
      "text/plain": [
       "True"
      ]
     },
     "execution_count": 96,
     "metadata": {},
     "output_type": "execute_result"
    }
   ],
   "source": [
    "cs.euler_decomp2()"
   ]
  },
  {
   "cell_type": "code",
   "execution_count": 70,
   "id": "3a153c8c",
   "metadata": {},
   "outputs": [
    {
     "data": {
      "text/plain": [
       "DAG(node=None, children=[DAG(node=HAD(0), children=[DAG(node=HAD(0), children=[DAG(node=S(0), children=[DAG(node=HAD(0), children=[DAG(node=X^-1(0), children=[DAG(node=HAD^3(0), children=[DAG(node=S^-1(0), children=[DAG(node=HAD^2(0), children=[DAG(node=Z(0), children=[])])])])])])])])])])"
      ]
     },
     "execution_count": 70,
     "metadata": {},
     "output_type": "execute_result"
    }
   ],
   "source": [
    "cs.dag"
   ]
  },
  {
   "cell_type": "code",
   "execution_count": 71,
   "id": "27744377",
   "metadata": {},
   "outputs": [
    {
     "data": {
      "text/plain": [
       "Circuit[3](1 qudits, 0 dits, [HAD(0), HAD(0), S(0), HAD(0), X^-1(0), HAD^3(0), S^-1(0), HAD^2(0), Z(0)] gates)"
      ]
     },
     "execution_count": 71,
     "metadata": {},
     "output_type": "execute_result"
    }
   ],
   "source": [
    "cs.circuit"
   ]
  },
  {
   "cell_type": "code",
   "execution_count": 72,
   "id": "f4712b96",
   "metadata": {},
   "outputs": [
    {
     "data": {
      "text/plain": [
       "Circuit[3](1 qudits, 0 dits, [Z^2(0)] gates)"
      ]
     },
     "execution_count": 72,
     "metadata": {},
     "output_type": "execute_result"
    }
   ],
   "source": [
    "cs.simple_optimize()\n",
    "cs.circuit"
   ]
  },
  {
   "cell_type": "code",
   "execution_count": null,
   "id": "4158236a",
   "metadata": {},
   "outputs": [],
   "source": [
    "i = 0\n",
    "dag = cs.dag.children[0]\n",
    "while i<10:\n",
    "    if len(dag.children) == 0: break\n",
    "    print(\"Num children: \", len(dag.children))\n",
    "    print(\"First child: \", dag.children[0].node)\n",
    "    dag = dag.children[0]\n",
    "    i += 1"
   ]
  },
  {
   "cell_type": "code",
   "execution_count": 27,
   "id": "54d7e552",
   "metadata": {},
   "outputs": [
    {
     "data": {
      "text/plain": [
       "Circuit[3](1 qudits, 0 dits, [S^-1(0), HAD(0), S^-1(0), S^-2(0), HAD^3(0), S^-2(0), Z(0), Z^-4(0), X^2(0), X^-4(0)] gates)"
      ]
     },
     "execution_count": 27,
     "metadata": {},
     "output_type": "execute_result"
    }
   ],
   "source": [
    "cs.push_pauli()\n",
    "cs.circuit"
   ]
  },
  {
   "cell_type": "code",
   "execution_count": 33,
   "id": "8d3b2450",
   "metadata": {},
   "outputs": [
    {
     "data": {
      "text/plain": [
       "Circuit[3](1 qudits, 0 dits, [S^-3(0), X^-2(0)] gates)"
      ]
     },
     "execution_count": 33,
     "metadata": {},
     "output_type": "execute_result"
    }
   ],
   "source": [
    "cs.combine_gates()\n",
    "cs.circuit"
   ]
  },
  {
   "cell_type": "code",
   "execution_count": 34,
   "id": "87285296",
   "metadata": {},
   "outputs": [
    {
     "data": {
      "text/plain": [
       "Circuit[3](1 qudits, 0 dits, [X^-2(0)] gates)"
      ]
     },
     "execution_count": 34,
     "metadata": {},
     "output_type": "execute_result"
    }
   ],
   "source": [
    "cs.remove_identity_gate()\n",
    "cs.circuit"
   ]
  },
  {
   "cell_type": "code",
   "execution_count": null,
   "id": "b3e3f87e",
   "metadata": {},
   "outputs": [],
   "source": [
    "cs.circuit"
   ]
  },
  {
   "cell_type": "code",
   "execution_count": null,
   "id": "9a3f9aa7",
   "metadata": {},
   "outputs": [],
   "source": [
    "cs.push_pauli()"
   ]
  },
  {
   "cell_type": "code",
   "execution_count": null,
   "id": "bcf6dd99",
   "metadata": {},
   "outputs": [],
   "source": [
    "cs.circuit"
   ]
  },
  {
   "cell_type": "code",
   "execution_count": null,
   "id": "52a9151b",
   "metadata": {},
   "outputs": [],
   "source": [
    "cs.push_pauli()"
   ]
  },
  {
   "cell_type": "code",
   "execution_count": null,
   "id": "5e02a3be",
   "metadata": {},
   "outputs": [],
   "source": [
    "cs.circuit"
   ]
  },
  {
   "cell_type": "code",
   "execution_count": null,
   "id": "9c187c26",
   "metadata": {},
   "outputs": [],
   "source": [
    "print(cs.push_pauli())\n",
    "cs.circuit"
   ]
  },
  {
   "cell_type": "code",
   "execution_count": null,
   "id": "b83b2248",
   "metadata": {},
   "outputs": [],
   "source": [
    "print(cs.push_pauli())\n",
    "cs.circuit"
   ]
  },
  {
   "cell_type": "code",
   "execution_count": null,
   "id": "87196f32",
   "metadata": {},
   "outputs": [],
   "source": [
    "print(cs.push_pauli())\n",
    "cs.circuit"
   ]
  },
  {
   "cell_type": "code",
   "execution_count": null,
   "id": "168d85b6",
   "metadata": {},
   "outputs": [],
   "source": [
    "print(cs.combine_gates())\n",
    "cs.circuit"
   ]
  },
  {
   "cell_type": "code",
   "execution_count": null,
   "id": "798615b3",
   "metadata": {},
   "outputs": [],
   "source": [
    "print(cs.remove_identity_gate())\n",
    "cs.circuit"
   ]
  }
 ],
 "metadata": {
  "kernelspec": {
   "display_name": "Python 3 (ipykernel)",
   "language": "python",
   "name": "python3"
  },
  "language_info": {
   "codemirror_mode": {
    "name": "ipython",
    "version": 3
   },
   "file_extension": ".py",
   "mimetype": "text/x-python",
   "name": "python",
   "nbconvert_exporter": "python",
   "pygments_lexer": "ipython3",
   "version": "3.11.2"
  }
 },
 "nbformat": 4,
 "nbformat_minor": 5
}
