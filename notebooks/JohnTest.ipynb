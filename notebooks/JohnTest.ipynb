{
 "cells": [
  {
   "cell_type": "code",
   "execution_count": 1,
   "id": "c2f956a7",
   "metadata": {},
   "outputs": [],
   "source": [
    "%load_ext autoreload\n",
    "%autoreload 2\n",
    "import sys\n",
    "sys.path.append('..')"
   ]
  },
  {
   "cell_type": "code",
   "execution_count": 2,
   "id": "94bf354c",
   "metadata": {},
   "outputs": [],
   "source": [
    "import dizx\n",
    "from dizx import Edge\n",
    "from dizx import clifford_simplifier as simp\n",
    "Phase = dizx.CliffordPhase\n",
    "d = 3\n",
    "Z = dizx.VertexType.Z\n",
    "X = dizx.VertexType.X"
   ]
  },
  {
   "cell_type": "code",
   "execution_count": null,
   "id": "aab9ac17",
   "metadata": {},
   "outputs": [],
   "source": [
    "c = dizx.Circuit(qudit_amount=2,dim=3)\n",
    "c.add_gates(\"H H S\",0)\n",
    "# c.add_gate(\"CZ\",0,1)\n",
    "# c.add_gates(\"S S H\",1)\n",
    "# c.add_gates(\"H S\", 0)"
   ]
  },
  {
   "cell_type": "code",
   "execution_count": null,
   "id": "24caac8d",
   "metadata": {},
   "outputs": [],
   "source": [
    "print(c)"
   ]
  },
  {
   "cell_type": "code",
   "execution_count": null,
   "id": "5acb58ed",
   "metadata": {},
   "outputs": [],
   "source": [
    "cs = simp.CliffordSimplifier(c)"
   ]
  },
  {
   "cell_type": "code",
   "execution_count": null,
   "id": "bc32e277",
   "metadata": {},
   "outputs": [],
   "source": [
    "cs.dag.children[0].children[0].children"
   ]
  },
  {
   "cell_type": "code",
   "execution_count": null,
   "id": "80fedde7",
   "metadata": {},
   "outputs": [],
   "source": [
    "cs.combine_gates()"
   ]
  },
  {
   "cell_type": "code",
   "execution_count": null,
   "id": "e8f6b5ec",
   "metadata": {},
   "outputs": [],
   "source": [
    "cs.circuit"
   ]
  },
  {
   "cell_type": "code",
   "execution_count": null,
   "id": "04b79e76",
   "metadata": {},
   "outputs": [],
   "source": [
    "cs.dag.children[0].children"
   ]
  },
  {
   "cell_type": "code",
   "execution_count": null,
   "id": "db41936b",
   "metadata": {},
   "outputs": [],
   "source": [
    "cs.remove_identity_gate()"
   ]
  },
  {
   "cell_type": "code",
   "execution_count": null,
   "id": "1a9d0c3c",
   "metadata": {},
   "outputs": [],
   "source": [
    "cs.push_pauli()"
   ]
  },
  {
   "cell_type": "code",
   "execution_count": null,
   "id": "7400080f",
   "metadata": {},
   "outputs": [],
   "source": [
    "cs.dag.ch"
   ]
  },
  {
   "cell_type": "code",
   "execution_count": null,
   "id": "2ec95dda",
   "metadata": {},
   "outputs": [],
   "source": [
    "cs.push_double_hadamard()"
   ]
  },
  {
   "cell_type": "code",
   "execution_count": null,
   "id": "252efc3a",
   "metadata": {},
   "outputs": [],
   "source": [
    "cs.circuit"
   ]
  },
  {
   "cell_type": "code",
   "execution_count": null,
   "id": "2542998d",
   "metadata": {},
   "outputs": [],
   "source": [
    "cs.dag.children[0].children"
   ]
  },
  {
   "cell_type": "code",
   "execution_count": 33,
   "id": "be44dede",
   "metadata": {},
   "outputs": [],
   "source": [
    "lhs = dizx.Circuit(qudit_amount=1, dim=3)\n",
    "lhs.add_gates(\"H S H\", 0)\n",
    "rhs = dizx.Circuit(qudit_amount=1, dim=3)\n",
    "rhs.add_gates(\"S S H S S X X\", 0)\n"
   ]
  },
  {
   "cell_type": "code",
   "execution_count": 34,
   "id": "02f812e5",
   "metadata": {},
   "outputs": [
    {
     "data": {
      "text/plain": [
       "Circuit[3](1 qudits, 0 dits, [HAD(0), S(0), HAD(0), X^-1*(0), X^-1*(0), S^-1*(0), S^-1*(0), HAD^-1*(0), S^-1*(0), S^-1*(0)] gates)"
      ]
     },
     "execution_count": 34,
     "metadata": {},
     "output_type": "execute_result"
    }
   ],
   "source": [
    "c = lhs + rhs.adjoint()\n",
    "c"
   ]
  },
  {
   "cell_type": "code",
   "execution_count": 81,
   "id": "aca9f96c",
   "metadata": {},
   "outputs": [],
   "source": [
    "cs = simp.CliffordSimplifier(c)"
   ]
  },
  {
   "cell_type": "code",
   "execution_count": 21,
   "id": "4b9de2ee",
   "metadata": {},
   "outputs": [
    {
     "data": {
      "text/plain": [
       "[DAG(node=X(0), children=[DAG(node=X(0), children=[])])]"
      ]
     },
     "execution_count": 21,
     "metadata": {},
     "output_type": "execute_result"
    }
   ],
   "source": [
    "cs.dag.children[0].children[0].children[0].children[0].children[0].parents"
   ]
  },
  {
   "cell_type": "code",
   "execution_count": 68,
   "id": "8ee276c2",
   "metadata": {},
   "outputs": [
    {
     "data": {
      "text/plain": [
       "True"
      ]
     },
     "execution_count": 68,
     "metadata": {},
     "output_type": "execute_result"
    }
   ],
   "source": [
    "cs.combine_gates()"
   ]
  },
  {
   "cell_type": "code",
   "execution_count": 69,
   "id": "90f98ccb",
   "metadata": {},
   "outputs": [
    {
     "data": {
      "text/plain": [
       "Circuit[3](1 qudits, 0 dits, [HAD(0), S(0), HAD(0), X^-2*(0), S^-2*(0), HAD^-1*(0), S^-2*(0)] gates)"
      ]
     },
     "execution_count": 69,
     "metadata": {},
     "output_type": "execute_result"
    }
   ],
   "source": [
    "cs.circuit"
   ]
  },
  {
   "cell_type": "code",
   "execution_count": 82,
   "id": "df6cb749",
   "metadata": {},
   "outputs": [
    {
     "data": {
      "text/plain": [
       "Circuit[3](1 qudits, 0 dits, [HAD(0), S(0), HAD(0), S^-2*(0), HAD^3*(0), S^-2*(0), X^-4(0)] gates)"
      ]
     },
     "execution_count": 82,
     "metadata": {},
     "output_type": "execute_result"
    }
   ],
   "source": [
    "cs.simple_optimize()\n",
    "cs.circuit"
   ]
  },
  {
   "cell_type": "code",
   "execution_count": 59,
   "id": "4158236a",
   "metadata": {},
   "outputs": [
    {
     "name": "stdout",
     "output_type": "stream",
     "text": [
      "Num children:  1\n",
      "First child:  S(0)\n",
      "Num children:  1\n",
      "First child:  HAD(0)\n",
      "Num children:  1\n",
      "First child:  X^-2*(0)\n",
      "Num children:  1\n",
      "First child:  S^-2*(0)\n",
      "Num children:  1\n",
      "First child:  HAD^-1*(0)\n",
      "Num children:  1\n",
      "First child:  S^-2*(0)\n"
     ]
    }
   ],
   "source": [
    "i = 0\n",
    "dag = cs.dag.children[0]\n",
    "while i<10:\n",
    "    if len(dag.children) == 0: break\n",
    "    print(\"Num children: \", len(dag.children))\n",
    "    print(\"First child: \", dag.children[0].node)\n",
    "    dag = dag.children[0]\n",
    "    i += 1"
   ]
  },
  {
   "cell_type": "code",
   "execution_count": 70,
   "id": "54d7e552",
   "metadata": {},
   "outputs": [
    {
     "data": {
      "text/plain": [
       "True"
      ]
     },
     "execution_count": 70,
     "metadata": {},
     "output_type": "execute_result"
    }
   ],
   "source": [
    "cs.push_pauli()\n",
    "#cs.circuit"
   ]
  },
  {
   "cell_type": "code",
   "execution_count": 71,
   "id": "b3e3f87e",
   "metadata": {},
   "outputs": [
    {
     "data": {
      "text/plain": [
       "Circuit[3](1 qudits, 0 dits, [HAD(0), S(0), HAD(0), S^-2*(0), Z^4(0), X^-2*(0), HAD^-1*(0), S^-2*(0)] gates)"
      ]
     },
     "execution_count": 71,
     "metadata": {},
     "output_type": "execute_result"
    }
   ],
   "source": [
    "cs.circuit"
   ]
  },
  {
   "cell_type": "code",
   "execution_count": 72,
   "id": "9a3f9aa7",
   "metadata": {},
   "outputs": [
    {
     "data": {
      "text/plain": [
       "True"
      ]
     },
     "execution_count": 72,
     "metadata": {},
     "output_type": "execute_result"
    }
   ],
   "source": [
    "cs.push_pauli()"
   ]
  },
  {
   "cell_type": "code",
   "execution_count": 73,
   "id": "bcf6dd99",
   "metadata": {},
   "outputs": [
    {
     "data": {
      "text/plain": [
       "Circuit[3](1 qudits, 0 dits, [HAD(0), S(0), HAD(0), S^-2*(0), Z^4(0), HAD^3*(0), Z^-2(0), S^-2*(0)] gates)"
      ]
     },
     "execution_count": 73,
     "metadata": {},
     "output_type": "execute_result"
    }
   ],
   "source": [
    "cs.circuit"
   ]
  },
  {
   "cell_type": "code",
   "execution_count": 74,
   "id": "52a9151b",
   "metadata": {},
   "outputs": [
    {
     "data": {
      "text/plain": [
       "True"
      ]
     },
     "execution_count": 74,
     "metadata": {},
     "output_type": "execute_result"
    }
   ],
   "source": [
    "cs.push_pauli()"
   ]
  },
  {
   "cell_type": "code",
   "execution_count": 75,
   "id": "5e02a3be",
   "metadata": {},
   "outputs": [
    {
     "data": {
      "text/plain": [
       "Circuit[3](1 qudits, 0 dits, [HAD(0), S(0), HAD(0), S^-2*(0), HAD^3*(0), X^-4(0), Z^-2(0), S^-2*(0)] gates)"
      ]
     },
     "execution_count": 75,
     "metadata": {},
     "output_type": "execute_result"
    }
   ],
   "source": [
    "cs.circuit"
   ]
  },
  {
   "cell_type": "code",
   "execution_count": 76,
   "id": "9c187c26",
   "metadata": {},
   "outputs": [
    {
     "name": "stdout",
     "output_type": "stream",
     "text": [
      "True\n"
     ]
    },
    {
     "data": {
      "text/plain": [
       "Circuit[3](1 qudits, 0 dits, [HAD(0), S(0), HAD(0), S^-2*(0), HAD^3*(0), Z^-2(0), X^-4(0), S^-2*(0)] gates)"
      ]
     },
     "execution_count": 76,
     "metadata": {},
     "output_type": "execute_result"
    }
   ],
   "source": [
    "print(cs.push_pauli())\n",
    "cs.circuit"
   ]
  },
  {
   "cell_type": "code",
   "execution_count": 77,
   "id": "b83b2248",
   "metadata": {},
   "outputs": [
    {
     "name": "stdout",
     "output_type": "stream",
     "text": [
      "True\n"
     ]
    },
    {
     "data": {
      "text/plain": [
       "Circuit[3](1 qudits, 0 dits, [HAD(0), S(0), HAD(0), S^-2*(0), HAD^3*(0), Z^-2(0), S^-2*(0), Z^8(0), X^-4(0)] gates)"
      ]
     },
     "execution_count": 77,
     "metadata": {},
     "output_type": "execute_result"
    }
   ],
   "source": [
    "print(cs.push_pauli())\n",
    "cs.circuit"
   ]
  },
  {
   "cell_type": "code",
   "execution_count": 78,
   "id": "87196f32",
   "metadata": {},
   "outputs": [
    {
     "name": "stdout",
     "output_type": "stream",
     "text": [
      "True\n"
     ]
    },
    {
     "data": {
      "text/plain": [
       "Circuit[3](1 qudits, 0 dits, [HAD(0), S(0), HAD(0), S^-2*(0), HAD^3*(0), S^-2*(0), Z^-2(0), Z^8(0), X^-4(0)] gates)"
      ]
     },
     "execution_count": 78,
     "metadata": {},
     "output_type": "execute_result"
    }
   ],
   "source": [
    "print(cs.push_pauli())\n",
    "cs.circuit"
   ]
  },
  {
   "cell_type": "code",
   "execution_count": 79,
   "id": "168d85b6",
   "metadata": {},
   "outputs": [
    {
     "name": "stdout",
     "output_type": "stream",
     "text": [
      "True\n"
     ]
    },
    {
     "data": {
      "text/plain": [
       "Circuit[3](1 qudits, 0 dits, [HAD(0), S(0), HAD(0), S^-2*(0), HAD^3*(0), S^-2*(0), Z^6(0), X^-4(0)] gates)"
      ]
     },
     "execution_count": 79,
     "metadata": {},
     "output_type": "execute_result"
    }
   ],
   "source": [
    "print(cs.combine_gates())\n",
    "cs.circuit"
   ]
  },
  {
   "cell_type": "code",
   "execution_count": 80,
   "id": "798615b3",
   "metadata": {},
   "outputs": [
    {
     "name": "stdout",
     "output_type": "stream",
     "text": [
      "True\n"
     ]
    },
    {
     "data": {
      "text/plain": [
       "Circuit[3](1 qudits, 0 dits, [HAD(0), S(0), HAD(0), S^-2*(0), HAD^3*(0), S^-2*(0), X^-4(0)] gates)"
      ]
     },
     "execution_count": 80,
     "metadata": {},
     "output_type": "execute_result"
    }
   ],
   "source": [
    "print(cs.remove_identity_gate())\n",
    "cs.circuit"
   ]
  }
 ],
 "metadata": {
  "kernelspec": {
   "display_name": "Python 3 (ipykernel)",
   "language": "python",
   "name": "python3"
  },
  "language_info": {
   "codemirror_mode": {
    "name": "ipython",
    "version": 3
   },
   "file_extension": ".py",
   "mimetype": "text/x-python",
   "name": "python",
   "nbconvert_exporter": "python",
   "pygments_lexer": "ipython3",
   "version": "3.11.2"
  }
 },
 "nbformat": 4,
 "nbformat_minor": 5
}
