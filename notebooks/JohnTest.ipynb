{
 "cells": [
  {
   "cell_type": "code",
   "execution_count": null,
   "id": "c2f956a7",
   "metadata": {},
   "outputs": [],
   "source": [
    "%load_ext autoreload\n",
    "%autoreload 2\n",
    "import sys\n",
    "sys.path.append('..')"
   ]
  },
  {
   "cell_type": "code",
   "execution_count": null,
   "id": "94bf354c",
   "metadata": {},
   "outputs": [],
   "source": [
    "import dizx\n",
    "from dizx import Edge\n",
    "from dizx import clifford_simplifier as simp\n",
    "Phase = dizx.CliffordPhase\n",
    "d = 3\n",
    "Z = dizx.VertexType.Z\n",
    "X = dizx.VertexType.X"
   ]
  },
  {
   "cell_type": "code",
   "execution_count": null,
   "id": "aab9ac17",
   "metadata": {},
   "outputs": [],
   "source": [
    "c = dizx.Circuit(qudit_amount=2,dim=3)\n",
    "c.add_gates(\"H H S\",0)\n",
    "# c.add_gate(\"CZ\",0,1)\n",
    "# c.add_gates(\"S S H\",1)\n",
    "# c.add_gates(\"H S\", 0)"
   ]
  },
  {
   "cell_type": "code",
   "execution_count": null,
   "id": "24caac8d",
   "metadata": {},
   "outputs": [],
   "source": [
    "print(c)"
   ]
  },
  {
   "cell_type": "code",
   "execution_count": 20,
   "id": "7ce5be48",
   "metadata": {},
   "outputs": [
    {
     "name": "stdout",
     "output_type": "stream",
     "text": [
      "Matrix over GF(p)[a]:\n",
      "Matrix([[1, 0], [b, 1]])\n"
     ]
    }
   ],
   "source": [
    "# Experimenting with sympy's finite fields over polynomials\n",
    "# Attempt 1 using Polynomial rings\n",
    "\n",
    "from sympy import symbols, groebner\n",
    "from sympy.polys.domains import GF, PolynomialRing\n",
    "from sympy.polys.matrices import DomainMatrix\n",
    "\n",
    "p = 7\n",
    "F = GF(p)\n",
    "beta = symbols(\"beta\")\n",
    "b = symbols(\"b\")\n",
    "a = symbols(\"a\")\n",
    "ainv = symbols(\"a^{-1}\")\n",
    "\n",
    "# Polynomial ring GF(p)[a]\n",
    "R = PolynomialRing(F, [a,ainv,b])\n",
    "\n",
    "Ra = R.convert(a)\n",
    "Rainv = R.convert(ainv)\n",
    "# Rbeta = R.convert(beta)\n",
    "Rb = R.convert(b)\n",
    "\n",
    "G = groebner([a*ainv - 1], a, ainv, modulus=p)\n",
    "\n",
    "H = DomainMatrix([[R.convert(0), R.convert(-1)],\n",
    "                  [R.convert(1), R.convert(0)]],\n",
    "                 (2, 2), R)\n",
    "\n",
    "Hinv = DomainMatrix([[R.convert(0), R.convert(1)],\n",
    "                  [R.convert(-1), R.convert(0)]],\n",
    "                 (2, 2), R)\n",
    "\n",
    "\n",
    "def S_repetitions(rep):\n",
    "    return DomainMatrix([[R.convert(1), R.convert(0)],\n",
    "                  [rep, R.convert(1)]],\n",
    "                 (2, 2), R)\n",
    "\n",
    "# Sbeta = S_repetitions(Rbeta)\n",
    "Sb = S_repetitions(Rb)\n",
    "# Build a matrix with entries in GF(p)[a]\n",
    "A = DomainMatrix([[R.convert(1), R.convert(0)],\n",
    "                  [R.convert(b), R.convert(1)]],\n",
    "                 (2, 2), R)\n",
    "\n",
    "print(\"Matrix over GF(p)[a]:\")\n",
    "print(A.to_Matrix())\n",
    "\n",
    "aval = F(3)  # element of GF(7)\n",
    "\n",
    "# Substitute 'a=3' in each entry\n",
    "# evaluated_entries = [[entry.evaluate(0,aval) for entry in row]\n",
    "#                      for row in A.to_list()]\n",
    "\n",
    "# # Build a new matrix over GF(p)\n",
    "# A_eval = DomainMatrix(evaluated_entries, A.shape, F)\n",
    "\n",
    "# print(\"Matrix evaluated at a=3 (in GF(7)):\")\n",
    "# print(A_eval.to_Matrix())"
   ]
  },
  {
   "cell_type": "code",
   "execution_count": 21,
   "id": "9ff0a9a7",
   "metadata": {},
   "outputs": [
    {
     "data": {
      "text/latex": [
       "$\\displaystyle \\left[\\begin{matrix}b & - a\\\\a^{-1} & 0\\end{matrix}\\right]$"
      ],
      "text/plain": [
       "Matrix([\n",
       "[     b, -a],\n",
       "[a^{-1},  0]])"
      ]
     },
     "execution_count": 21,
     "metadata": {},
     "output_type": "execute_result"
    }
   ],
   "source": [
    "# Attempt 2 using groebner bases to automate the reductions of the variables and say a*ainv = 1.\n",
    "G = groebner([a*ainv - 1], a, ainv, b, modulus=p)\n",
    "expr = a**2*ainv + 3\n",
    "G.reduce(expr)\n",
    "\n",
    "H = Matrix([[0,1],[-1,0]])\n",
    "Hinv = Matrix([[0,-1],[1,0]])\n",
    "\n",
    "def Sr(rep):\n",
    "    return Matrix([[1,0],[rep,1]])\n",
    "\n",
    "M = H*Sr(-a*(b+1))*Hinv*Sr(-ainv)*Hinv*Sr(-a)*Hinv\n",
    "\n",
    "def reduce_matrix(M):\n",
    "    evaluated_entries = []\n",
    "    for i in range(M.rows):\n",
    "        row = M.row(i)\n",
    "        newrow = []\n",
    "        for entry in row:\n",
    "            entry = G.reduce(entry)[1]\n",
    "            newrow.append(entry)\n",
    "        evaluated_entries.append(newrow)\n",
    "    return Matrix(evaluated_entries)\n",
    "\n",
    "reduce_matrix(M)"
   ]
  },
  {
   "cell_type": "code",
   "execution_count": 16,
   "id": "2b46031e",
   "metadata": {},
   "outputs": [
    {
     "data": {
      "text/latex": [
       "$\\displaystyle \\left[\\begin{matrix}ainv & a ainv - 1\\end{matrix}\\right]$"
      ],
      "text/plain": [
       "Matrix([[ainv, a*ainv - 1]])"
      ]
     },
     "execution_count": 16,
     "metadata": {},
     "output_type": "execute_result"
    }
   ],
   "source": [
    "M.row(1)"
   ]
  },
  {
   "cell_type": "code",
   "execution_count": 11,
   "id": "94020c6c",
   "metadata": {},
   "outputs": [
    {
     "data": {
      "text/latex": [
       "$\\displaystyle \\left[\\begin{matrix}1 & 0\\\\- a & 1\\end{matrix}\\right]$"
      ],
      "text/plain": [
       "Matrix([\n",
       "[ 1, 0],\n",
       "[-a, 1]])"
      ]
     },
     "execution_count": 11,
     "metadata": {},
     "output_type": "execute_result"
    }
   ],
   "source": [
    "from sympy import Matrix\n",
    "\n",
    "M = Matrix([[1,0],[a,1]])\n",
    "M.inv()"
   ]
  },
  {
   "cell_type": "code",
   "execution_count": null,
   "id": "9cf799bb",
   "metadata": {},
   "outputs": [],
   "source": [
    "M = H*Sb*Hinv*Sbeta*Hinv\n",
    "M"
   ]
  },
  {
   "cell_type": "code",
   "execution_count": null,
   "id": "bad9d296",
   "metadata": {},
   "outputs": [],
   "source": [
    "M*DomainMatrix([[0],[Rb]],(2,1),R)"
   ]
  },
  {
   "cell_type": "code",
   "execution_count": null,
   "id": "4e6c4915",
   "metadata": {},
   "outputs": [],
   "source": [
    "Aab = H*S_repetitions(-Ra*(Rb+1))*Hinv*S_repetitions(-Rainv)*Hinv*S_repetitions(-Ra)*Hinv\n",
    "Aab"
   ]
  },
  {
   "cell_type": "code",
   "execution_count": null,
   "id": "8be6406b",
   "metadata": {},
   "outputs": [],
   "source": [
    "def build_A_matrix(a,b):\n",
    "    return DomainMatrix([[b, a],\n",
    "                         [-a, b]],\n",
    "                         (2, 2), R)\n",
    "\n",
    "A = build_A_matrix(R.convert(1),R.convert(2))\n",
    "Omega = DomainMatrix([[R.convert(0), R.convert(1)],\n",
    "                  [R.convert(-1), R.convert(0)]],\n",
    "                 (2, 2), R)\n",
    "\n",
    "A.transpose()*Omega*A"
   ]
  },
  {
   "cell_type": "code",
   "execution_count": null,
   "id": "8c4490a4",
   "metadata": {},
   "outputs": [],
   "source": [
    "def eval_matrix(M, values):\n",
    "    evaluated_entries = []\n",
    "    for row in M.to_list():\n",
    "        for entry in row:\n",
    "            for key,value in values.items():\n",
    "                entry = entry.evaluate(0)\n",
    "    [[entry.evaluate() for entry in row]\n",
    "                      for row in M.to_list()]"
   ]
  },
  {
   "cell_type": "code",
   "execution_count": null,
   "id": "5acb58ed",
   "metadata": {},
   "outputs": [],
   "source": [
    "cs = simp.CliffordSimplifier(c)"
   ]
  },
  {
   "cell_type": "code",
   "execution_count": null,
   "id": "bc32e277",
   "metadata": {},
   "outputs": [],
   "source": [
    "cs.dag.children[0].children[0].children"
   ]
  },
  {
   "cell_type": "code",
   "execution_count": null,
   "id": "80fedde7",
   "metadata": {},
   "outputs": [],
   "source": [
    "cs.combine_gates()"
   ]
  },
  {
   "cell_type": "code",
   "execution_count": null,
   "id": "e8f6b5ec",
   "metadata": {},
   "outputs": [],
   "source": [
    "cs.circuit"
   ]
  },
  {
   "cell_type": "code",
   "execution_count": null,
   "id": "04b79e76",
   "metadata": {},
   "outputs": [],
   "source": [
    "cs.dag.children[0].children"
   ]
  },
  {
   "cell_type": "code",
   "execution_count": null,
   "id": "db41936b",
   "metadata": {},
   "outputs": [],
   "source": [
    "cs.remove_identity_gate()"
   ]
  },
  {
   "cell_type": "code",
   "execution_count": null,
   "id": "1a9d0c3c",
   "metadata": {},
   "outputs": [],
   "source": [
    "cs.push_pauli()"
   ]
  },
  {
   "cell_type": "code",
   "execution_count": null,
   "id": "2ec95dda",
   "metadata": {},
   "outputs": [],
   "source": [
    "cs.push_double_hadamard()"
   ]
  },
  {
   "cell_type": "code",
   "execution_count": null,
   "id": "252efc3a",
   "metadata": {},
   "outputs": [],
   "source": [
    "cs.circuit"
   ]
  },
  {
   "cell_type": "code",
   "execution_count": null,
   "id": "2542998d",
   "metadata": {},
   "outputs": [],
   "source": [
    "cs.dag.children[0].children"
   ]
  },
  {
   "cell_type": "code",
   "execution_count": null,
   "id": "be44dede",
   "metadata": {},
   "outputs": [],
   "source": [
    "lhs = dizx.Circuit(qudit_amount=1, dim=3)\n",
    "lhs.add_gates(\"S X H S H H\", 0)\n",
    "rhs = dizx.Circuit(qudit_amount=1, dim=3)\n",
    "rhs.add_gates(\"H S S H\", 0)\n"
   ]
  },
  {
   "cell_type": "code",
   "execution_count": null,
   "id": "02f812e5",
   "metadata": {},
   "outputs": [],
   "source": [
    "c = lhs + rhs.adjoint()\n",
    "c"
   ]
  },
  {
   "cell_type": "code",
   "execution_count": null,
   "id": "aca9f96c",
   "metadata": {},
   "outputs": [],
   "source": [
    "cs = simp.CliffordSimplifier(c)"
   ]
  },
  {
   "cell_type": "code",
   "execution_count": null,
   "id": "df6cb749",
   "metadata": {},
   "outputs": [],
   "source": [
    "cs.simple_optimize()\n",
    "cs.circuit"
   ]
  },
  {
   "cell_type": "code",
   "execution_count": null,
   "id": "ccd6ce91",
   "metadata": {},
   "outputs": [],
   "source": [
    "for circ in cs.circuit_list:\n",
    "    print(circ)"
   ]
  },
  {
   "cell_type": "code",
   "execution_count": null,
   "id": "2c5e4a26",
   "metadata": {},
   "outputs": [],
   "source": [
    "cs.euler_decomp()"
   ]
  },
  {
   "cell_type": "code",
   "execution_count": null,
   "id": "f8c63b5a",
   "metadata": {},
   "outputs": [],
   "source": [
    "cs.euler_decomp2()"
   ]
  },
  {
   "cell_type": "code",
   "execution_count": null,
   "id": "3a153c8c",
   "metadata": {},
   "outputs": [],
   "source": [
    "cs.dag"
   ]
  },
  {
   "cell_type": "code",
   "execution_count": null,
   "id": "27744377",
   "metadata": {},
   "outputs": [],
   "source": [
    "cs.circuit"
   ]
  },
  {
   "cell_type": "code",
   "execution_count": null,
   "id": "f4712b96",
   "metadata": {},
   "outputs": [],
   "source": [
    "cs.simple_optimize()\n",
    "cs.circuit"
   ]
  },
  {
   "cell_type": "code",
   "execution_count": null,
   "id": "08344322",
   "metadata": {},
   "outputs": [],
   "source": [
    "for circ in cs.circuit_list:\n",
    "    print(circ)"
   ]
  },
  {
   "cell_type": "code",
   "execution_count": null,
   "id": "4158236a",
   "metadata": {},
   "outputs": [],
   "source": [
    "i = 0\n",
    "dag = cs.dag.children[0]\n",
    "while i<10:\n",
    "    if len(dag.children) == 0: break\n",
    "    print(\"Num children: \", len(dag.children))\n",
    "    print(\"First child: \", dag.children[0].node)\n",
    "    dag = dag.children[0]\n",
    "    i += 1"
   ]
  },
  {
   "cell_type": "code",
   "execution_count": null,
   "id": "54d7e552",
   "metadata": {},
   "outputs": [],
   "source": [
    "cs.push_pauli()\n",
    "cs.circuit"
   ]
  },
  {
   "cell_type": "code",
   "execution_count": null,
   "id": "8d3b2450",
   "metadata": {},
   "outputs": [],
   "source": [
    "cs.combine_gates()\n",
    "cs.circuit"
   ]
  },
  {
   "cell_type": "code",
   "execution_count": null,
   "id": "87285296",
   "metadata": {},
   "outputs": [],
   "source": [
    "cs.remove_identity_gate()\n",
    "cs.circuit"
   ]
  },
  {
   "cell_type": "code",
   "execution_count": null,
   "id": "b3e3f87e",
   "metadata": {},
   "outputs": [],
   "source": [
    "cs.circuit"
   ]
  },
  {
   "cell_type": "code",
   "execution_count": null,
   "id": "9a3f9aa7",
   "metadata": {},
   "outputs": [],
   "source": [
    "cs.push_pauli()"
   ]
  },
  {
   "cell_type": "code",
   "execution_count": null,
   "id": "bcf6dd99",
   "metadata": {},
   "outputs": [],
   "source": [
    "cs.circuit"
   ]
  },
  {
   "cell_type": "code",
   "execution_count": null,
   "id": "52a9151b",
   "metadata": {},
   "outputs": [],
   "source": [
    "cs.push_pauli()"
   ]
  },
  {
   "cell_type": "code",
   "execution_count": null,
   "id": "5e02a3be",
   "metadata": {},
   "outputs": [],
   "source": [
    "cs.circuit"
   ]
  },
  {
   "cell_type": "code",
   "execution_count": null,
   "id": "9c187c26",
   "metadata": {},
   "outputs": [],
   "source": [
    "print(cs.push_pauli())\n",
    "cs.circuit"
   ]
  },
  {
   "cell_type": "code",
   "execution_count": null,
   "id": "b83b2248",
   "metadata": {},
   "outputs": [],
   "source": [
    "print(cs.push_pauli())\n",
    "cs.circuit"
   ]
  },
  {
   "cell_type": "code",
   "execution_count": null,
   "id": "87196f32",
   "metadata": {},
   "outputs": [],
   "source": [
    "print(cs.push_pauli())\n",
    "cs.circuit"
   ]
  },
  {
   "cell_type": "code",
   "execution_count": null,
   "id": "168d85b6",
   "metadata": {},
   "outputs": [],
   "source": [
    "print(cs.combine_gates())\n",
    "cs.circuit"
   ]
  },
  {
   "cell_type": "code",
   "execution_count": null,
   "id": "798615b3",
   "metadata": {},
   "outputs": [],
   "source": [
    "print(cs.remove_identity_gate())\n",
    "cs.circuit"
   ]
  }
 ],
 "metadata": {
  "kernelspec": {
   "display_name": "Python 3 (ipykernel)",
   "language": "python",
   "name": "python3"
  },
  "language_info": {
   "codemirror_mode": {
    "name": "ipython",
    "version": 3
   },
   "file_extension": ".py",
   "mimetype": "text/x-python",
   "name": "python",
   "nbconvert_exporter": "python",
   "pygments_lexer": "ipython3",
   "version": "3.11.2"
  }
 },
 "nbformat": 4,
 "nbformat_minor": 5
}
